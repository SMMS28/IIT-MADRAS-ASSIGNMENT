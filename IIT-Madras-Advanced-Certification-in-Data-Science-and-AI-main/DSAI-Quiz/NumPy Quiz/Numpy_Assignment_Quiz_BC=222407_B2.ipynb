{
  "nbformat": 4,
  "nbformat_minor": 0,
  "metadata": {
    "colab": {
      "provenance": []
    },
    "kernelspec": {
      "name": "python3",
      "display_name": "Python 3"
    },
    "language_info": {
      "name": "python"
    }
  },
  "cells": [
    {
      "cell_type": "code",
      "source": [
        "import numpy as np"
      ],
      "metadata": {
        "id": "2no7t2-GQpsm"
      },
      "execution_count": null,
      "outputs": []
    },
    {
      "cell_type": "code",
      "execution_count": null,
      "metadata": {
        "colab": {
          "base_uri": "https://localhost:8080/"
        },
        "id": "Lzg93yokQWPl",
        "outputId": "23991d63-a332-445f-b021-4121e5a09418"
      },
      "outputs": [
        {
          "output_type": "execute_result",
          "data": {
            "text/plain": [
              "4"
            ]
          },
          "metadata": {},
          "execution_count": 8
        }
      ],
      "source": [
        "my_array = np.array([[[[1,3,4]]]])\n",
        "np.array(my_array, ndmin=5)\n",
        "my_array.ndim"
      ]
    },
    {
      "cell_type": "code",
      "source": [
        "Array1 = np.array([[1, 2, 3], [4, 5, 6]]) \n",
        "Array2 = np.array([[2, 3],[3, 2]])\n",
        "\n",
        "array3 = np.dot(Array1, Array2)"
      ],
      "metadata": {
        "colab": {
          "base_uri": "https://localhost:8080/",
          "height": 235
        },
        "id": "hFd2W-DdQ0gQ",
        "outputId": "3e9ea27a-7790-4b68-8236-934f9a679fea"
      },
      "execution_count": null,
      "outputs": [
        {
          "output_type": "error",
          "ename": "ValueError",
          "evalue": "ignored",
          "traceback": [
            "\u001b[0;31m---------------------------------------------------------------------------\u001b[0m",
            "\u001b[0;31mValueError\u001b[0m                                Traceback (most recent call last)",
            "\u001b[0;32m<ipython-input-10-edbf3d2ea7f0>\u001b[0m in \u001b[0;36m<module>\u001b[0;34m\u001b[0m\n\u001b[1;32m      2\u001b[0m \u001b[0mArray2\u001b[0m \u001b[0;34m=\u001b[0m \u001b[0mnumpy\u001b[0m\u001b[0;34m.\u001b[0m\u001b[0marray\u001b[0m\u001b[0;34m(\u001b[0m\u001b[0;34m[\u001b[0m\u001b[0;34m[\u001b[0m\u001b[0;36m2\u001b[0m\u001b[0;34m,\u001b[0m \u001b[0;36m3\u001b[0m\u001b[0;34m]\u001b[0m\u001b[0;34m,\u001b[0m\u001b[0;34m[\u001b[0m\u001b[0;36m3\u001b[0m\u001b[0;34m,\u001b[0m \u001b[0;36m2\u001b[0m\u001b[0;34m]\u001b[0m\u001b[0;34m]\u001b[0m\u001b[0;34m)\u001b[0m\u001b[0;34m\u001b[0m\u001b[0;34m\u001b[0m\u001b[0m\n\u001b[1;32m      3\u001b[0m \u001b[0;34m\u001b[0m\u001b[0m\n\u001b[0;32m----> 4\u001b[0;31m \u001b[0marray3\u001b[0m \u001b[0;34m=\u001b[0m \u001b[0mnumpy\u001b[0m\u001b[0;34m.\u001b[0m\u001b[0mdot\u001b[0m\u001b[0;34m(\u001b[0m\u001b[0mArray1\u001b[0m\u001b[0;34m,\u001b[0m \u001b[0mArray2\u001b[0m\u001b[0;34m)\u001b[0m\u001b[0;34m\u001b[0m\u001b[0;34m\u001b[0m\u001b[0m\n\u001b[0m",
            "\u001b[0;32m<__array_function__ internals>\u001b[0m in \u001b[0;36mdot\u001b[0;34m(*args, **kwargs)\u001b[0m\n",
            "\u001b[0;31mValueError\u001b[0m: shapes (2,3) and (2,2) not aligned: 3 (dim 1) != 2 (dim 0)"
          ]
        }
      ]
    },
    {
      "cell_type": "code",
      "source": [
        "array = np.array([10,3,1,203,404,204,20,302,30,402,192])\n",
        "\n",
        "array[::-1]"
      ],
      "metadata": {
        "colab": {
          "base_uri": "https://localhost:8080/"
        },
        "id": "hzln5zEYTHvI",
        "outputId": "e668b331-8847-4f09-eb99-ca3810eae705"
      },
      "execution_count": null,
      "outputs": [
        {
          "output_type": "execute_result",
          "data": {
            "text/plain": [
              "array([192, 402,  30, 302,  20, 204, 404, 203,   1,   3,  10])"
            ]
          },
          "metadata": {},
          "execution_count": 12
        }
      ]
    },
    {
      "cell_type": "code",
      "source": [
        "a = [[1, 0], [0, 1]]  \n",
        "b = [[4, 1], [2, 2]]  \n",
        "np.dot(a, b)"
      ],
      "metadata": {
        "colab": {
          "base_uri": "https://localhost:8080/"
        },
        "id": "02AbcDhgTlxy",
        "outputId": "c33d4df4-dd51-4e60-d5a2-dbf24a064fa5"
      },
      "execution_count": null,
      "outputs": [
        {
          "output_type": "execute_result",
          "data": {
            "text/plain": [
              "array([[4, 1],\n",
              "       [2, 2]])"
            ]
          },
          "metadata": {},
          "execution_count": 13
        }
      ]
    },
    {
      "cell_type": "code",
      "source": [
        "a = np.arange(3*4*5*6).reshape((3,4,5,6)) \n",
        "b = np.arange(3*4*5*6)[::-1].reshape((5,4,6,3)) \n",
        "np.dot(a, b)[2,3,2,1,2,2]"
      ],
      "metadata": {
        "colab": {
          "base_uri": "https://localhost:8080/"
        },
        "id": "AW9d_Vi1TsA1",
        "outputId": "e3831e4e-dec0-4abf-a0b6-250fc866c6c7"
      },
      "execution_count": null,
      "outputs": [
        {
          "output_type": "execute_result",
          "data": {
            "text/plain": [
              "499128"
            ]
          },
          "metadata": {},
          "execution_count": 14
        }
      ]
    },
    {
      "cell_type": "code",
      "source": [
        "a = np.array([3, 7, 32], dtype = complex); print(a)"
      ],
      "metadata": {
        "colab": {
          "base_uri": "https://localhost:8080/"
        },
        "id": "iVlgitBxT1Gh",
        "outputId": "3f004cd4-06a6-459a-9fe6-7672c6c10f7d"
      },
      "execution_count": null,
      "outputs": [
        {
          "output_type": "stream",
          "name": "stdout",
          "text": [
            "[ 3.+0.j  7.+0.j 32.+0.j]\n"
          ]
        }
      ]
    },
    {
      "cell_type": "code",
      "source": [
        "ar = np.random.seed(100) \n",
        "ar1 = np.random.uniform(1,50, 20)\n",
        "\n",
        "print(ar)\n",
        "print(ar1)\n",
        "\n",
        "ar2 = np.where(ar1 < 10, 10, np.where(ar1 > 30, 30, ar1))\n",
        "print(ar2)\n",
        "\n",
        "ar3 = np.clip(ar1, a_min=10, a_max=30)\n",
        "print(ar3)"
      ],
      "metadata": {
        "colab": {
          "base_uri": "https://localhost:8080/"
        },
        "id": "qW7xZ2IXUFvH",
        "outputId": "030b4f74-07cf-494d-8069-d856a7062922"
      },
      "execution_count": null,
      "outputs": [
        {
          "output_type": "stream",
          "name": "stdout",
          "text": [
            "None\n",
            "[27.62684215 14.64009987 21.80136195 42.39403048  1.23122395  6.95688692\n",
            " 33.86670515 41.466785    7.69862289 29.17957314 44.67477576 11.25090398\n",
            " 10.08108276  6.31046763 11.76517714 48.95256545 40.77247431  9.42510962\n",
            " 40.99501269 14.42961361]\n",
            "[27.62684215 14.64009987 21.80136195 30.         10.         10.\n",
            " 30.         30.         10.         29.17957314 30.         11.25090398\n",
            " 10.08108276 10.         11.76517714 30.         30.         10.\n",
            " 30.         14.42961361]\n",
            "[27.62684215 14.64009987 21.80136195 30.         10.         10.\n",
            " 30.         30.         10.         29.17957314 30.         11.25090398\n",
            " 10.08108276 10.         11.76517714 30.         30.         10.\n",
            " 30.         14.42961361]\n"
          ]
        }
      ]
    },
    {
      "cell_type": "code",
      "source": [
        "array1 = np.array([[1,2],[3,4]])\n",
        "array2 = np.array([[1,2],[3,4],[5,6],[7,8],[9,10]])\n",
        "# array1, array2 = array1.flatten(), array2.flatten()\n",
        "# z = np.stack((array1, array2[0:2]), axis=1)\n",
        "# x = np.stack((z, array2[2:4]), axis=1)\n",
        "# print(z)"
      ],
      "metadata": {
        "id": "WBZo2CzUUrM5"
      },
      "execution_count": null,
      "outputs": []
    },
    {
      "cell_type": "code",
      "source": [
        "array = np.array([10,3,1,203,404,204,20,302,30,402,192])  \n",
        "Elem_to_be_inserted = [1,2,3,4]\n",
        "\n",
        "n_ar = np.insert(array1, 4, Elem_to_be_inserted)\n",
        "print(n_ar)"
      ],
      "metadata": {
        "colab": {
          "base_uri": "https://localhost:8080/"
        },
        "id": "8E4Vziq8WOhy",
        "outputId": "7fd22c43-f00e-412b-a453-5bd8926c62da"
      },
      "execution_count": null,
      "outputs": [
        {
          "output_type": "stream",
          "name": "stdout",
          "text": [
            "[1 2 3 4 1 2 3 4]\n"
          ]
        }
      ]
    },
    {
      "cell_type": "code",
      "source": [],
      "metadata": {
        "id": "mE5pKRmYnXpL"
      },
      "execution_count": null,
      "outputs": []
    },
    {
      "cell_type": "code",
      "source": [
        "np.full((3,3), 'k')"
      ],
      "metadata": {
        "colab": {
          "base_uri": "https://localhost:8080/"
        },
        "id": "ZAr0WPwpXUdv",
        "outputId": "aa621e3a-d6fe-4455-e207-4e222a028676"
      },
      "execution_count": null,
      "outputs": [
        {
          "output_type": "execute_result",
          "data": {
            "text/plain": [
              "array([['k', 'k', 'k'],\n",
              "       ['k', 'k', 'k'],\n",
              "       ['k', 'k', 'k']], dtype='<U1')"
            ]
          },
          "metadata": {},
          "execution_count": 31
        }
      ]
    },
    {
      "cell_type": "code",
      "source": [
        "def bub_sort(array): \n",
        "  for i in range(0, len(array)): \n",
        "    for j in range(0, len(array) - i - 1): \n",
        "      if array[j] < array[j + 1]: \n",
        "        temp = array[j] \n",
        "        array[j] = array[j + 1] \n",
        "        array[j+1] = temp \n",
        "  return array \n",
        "\n",
        "my_array = np.array([20,14,25,16,45,60,12,9])\n",
        "bub_sort(my_array)"
      ],
      "metadata": {
        "colab": {
          "base_uri": "https://localhost:8080/"
        },
        "id": "9tBTo3lGY42H",
        "outputId": "b2e3d91b-0f35-461a-c6d4-0bee3a9f6119"
      },
      "execution_count": null,
      "outputs": [
        {
          "output_type": "execute_result",
          "data": {
            "text/plain": [
              "array([60, 45, 25, 20, 16, 14, 12,  9])"
            ]
          },
          "metadata": {},
          "execution_count": 32
        }
      ]
    },
    {
      "cell_type": "code",
      "source": [
        "ar = np.random.randint(1,10,(2,5))\n",
        "# ar = np.reshape((2,5) == (5,2)) -- this won't work\n",
        "print(ar)\n",
        "ar1 = ar.reshape(5,2)\n",
        "print(ar1)\n",
        "\n",
        "ar2 = (np.arange(1,5))\n",
        "print(ar2)\n"
      ],
      "metadata": {
        "colab": {
          "base_uri": "https://localhost:8080/"
        },
        "id": "8O1aZiHqZyEf",
        "outputId": "957de9d1-ab23-4a8b-e303-69cbe00f8259"
      },
      "execution_count": null,
      "outputs": [
        {
          "output_type": "stream",
          "name": "stdout",
          "text": [
            "[[5 2 4 2 5]\n",
            " [9 9 3 3 8]]\n",
            "[[5 2]\n",
            " [4 2]\n",
            " [5 9]\n",
            " [9 3]\n",
            " [3 8]]\n",
            "[1 2 3 4]\n"
          ]
        }
      ]
    },
    {
      "cell_type": "code",
      "source": [
        "Sample = np.array([[1,2],[3,4],[5,6],[7,8]])\n",
        "Sample.flatten()"
      ],
      "metadata": {
        "colab": {
          "base_uri": "https://localhost:8080/"
        },
        "id": "LOWSj8aPaUV7",
        "outputId": "906e5805-ce4b-4445-d7ab-9796a5caf1b2"
      },
      "execution_count": null,
      "outputs": [
        {
          "output_type": "execute_result",
          "data": {
            "text/plain": [
              "array([1, 2, 3, 4, 5, 6, 7, 8])"
            ]
          },
          "metadata": {},
          "execution_count": 45
        }
      ]
    },
    {
      "cell_type": "code",
      "source": [
        "Sample = np.array([[1,2,3],[4,5,6],[7,8,9],[10,11,12],[13,14,15]])\n",
        "Sample[0:3,1]"
      ],
      "metadata": {
        "colab": {
          "base_uri": "https://localhost:8080/"
        },
        "id": "Fh8Zfvczbudi",
        "outputId": "efcbcbac-7791-44a7-837a-524389b2d440"
      },
      "execution_count": null,
      "outputs": [
        {
          "output_type": "execute_result",
          "data": {
            "text/plain": [
              "array([2, 5, 8])"
            ]
          },
          "metadata": {},
          "execution_count": 46
        }
      ]
    },
    {
      "cell_type": "code",
      "source": [
        "Array1 = np.arange(20,2) \n",
        "Array2 = np.array([1,2,3,4,5,6,7,8,9,10])\n",
        "\n",
        "print(Array1)\n",
        "# Array3 = np.stack((Array1, Array2), axis = 1)"
      ],
      "metadata": {
        "colab": {
          "base_uri": "https://localhost:8080/"
        },
        "id": "sW3aEwdDcH_6",
        "outputId": "5fe6d561-c571-4a60-e253-549555b306e7"
      },
      "execution_count": null,
      "outputs": [
        {
          "output_type": "stream",
          "name": "stdout",
          "text": [
            "[]\n"
          ]
        }
      ]
    },
    {
      "cell_type": "code",
      "source": [
        "array1 = np.array([[1,2],[3,4]]) \n",
        "array2 = np.array([[5,6],[7,8]])\n",
        "np.stack((array1, array2), axis = 1)\n"
      ],
      "metadata": {
        "colab": {
          "base_uri": "https://localhost:8080/"
        },
        "id": "5iCGkwjPcoWE",
        "outputId": "f8615340-4233-4325-9ba5-0e121640cb0f"
      },
      "execution_count": null,
      "outputs": [
        {
          "output_type": "execute_result",
          "data": {
            "text/plain": [
              "array([[[1, 2],\n",
              "        [5, 6]],\n",
              "\n",
              "       [[3, 4],\n",
              "        [7, 8]]])"
            ]
          },
          "metadata": {},
          "execution_count": 55
        }
      ]
    },
    {
      "cell_type": "code",
      "source": [
        "A = np.array([[4],[12],[29]]) \n",
        "B = np.array([[13],[21],[4]])\n",
        "A, B = A.flatten(), B.flatten()\n",
        "np.cross(A, B)"
      ],
      "metadata": {
        "colab": {
          "base_uri": "https://localhost:8080/"
        },
        "id": "wrRvMGlgdEJR",
        "outputId": "aa639549-c7ec-4140-8d87-d2007a7c16fa"
      },
      "execution_count": null,
      "outputs": [
        {
          "output_type": "execute_result",
          "data": {
            "text/plain": [
              "array([-561,  361,  -72])"
            ]
          },
          "metadata": {},
          "execution_count": 57
        }
      ]
    },
    {
      "cell_type": "code",
      "source": [
        "A = np.array([1,3,5,7,9,11,13,15,17,19,21,23,25]) \n",
        "B = np.array([0,2,4,6,8,10,12,14,16,18,20, 22, 24])\n",
        "\n",
        "my_rho = np.corrcoef(A, B)\n",
        "my_rho"
      ],
      "metadata": {
        "colab": {
          "base_uri": "https://localhost:8080/"
        },
        "id": "fxl0OO6gf7Ps",
        "outputId": "319506b8-cb06-4e95-bf89-76a594bc2a0b"
      },
      "execution_count": null,
      "outputs": [
        {
          "output_type": "execute_result",
          "data": {
            "text/plain": [
              "array([[1., 1.],\n",
              "       [1., 1.]])"
            ]
          },
          "metadata": {},
          "execution_count": 58
        }
      ]
    },
    {
      "cell_type": "code",
      "source": [
        "sample = {1: [1,2], 2: [[1],[2]], 3: [[1,2], [3,4], [4,5]], 4: [1], 5: [1,2,3,4,5]}\n",
        "\n",
        "r = sample.items()\n",
        "d = list(r)\n",
        "np.array(d)"
      ],
      "metadata": {
        "colab": {
          "base_uri": "https://localhost:8080/"
        },
        "id": "S1TWgEKngdXo",
        "outputId": "34d3ae01-0e44-4430-c568-48e5f65c2ead"
      },
      "execution_count": null,
      "outputs": [
        {
          "output_type": "stream",
          "name": "stderr",
          "text": [
            "<ipython-input-59-7e8d6776ffef>:5: VisibleDeprecationWarning: Creating an ndarray from ragged nested sequences (which is a list-or-tuple of lists-or-tuples-or ndarrays with different lengths or shapes) is deprecated. If you meant to do this, you must specify 'dtype=object' when creating the ndarray.\n",
            "  np.array(d)\n"
          ]
        },
        {
          "output_type": "execute_result",
          "data": {
            "text/plain": [
              "array([[1, list([1, 2])],\n",
              "       [2, list([[1], [2]])],\n",
              "       [3, list([[1, 2], [3, 4], [4, 5]])],\n",
              "       [4, list([1])],\n",
              "       [5, list([1, 2, 3, 4, 5])]], dtype=object)"
            ]
          },
          "metadata": {},
          "execution_count": 59
        }
      ]
    },
    {
      "cell_type": "code",
      "source": [
        "arr1= np.array([[3,2,1],[6,4,5],[8,7,9]])\n",
        "\n",
        "a = np.array([8,7,9])\n",
        "b = np.array([1,4,7])\n",
        "print(a-b)"
      ],
      "metadata": {
        "colab": {
          "base_uri": "https://localhost:8080/"
        },
        "id": "tB8d3yvxhOM-",
        "outputId": "a1d51425-53fc-4494-8018-425ea7f3a94b"
      },
      "execution_count": null,
      "outputs": [
        {
          "output_type": "stream",
          "name": "stdout",
          "text": [
            "[7 3 2]\n"
          ]
        }
      ]
    },
    {
      "cell_type": "code",
      "source": [
        "# What will be output for the following code?\n",
        "# import numpy as np\n",
        "# a = np.array([3, 7, 32], dtype = complex)\n",
        "# print(a)\n",
        "\n",
        "# Marked Answer :\n",
        "# [ 3.0+0.j 7.0+0.j 32.0+0.j]\n",
        "\n",
        "# Correct Answer :\n",
        "# [ 3.+0.J 7.+0.J 32.+0.J]\n",
        "\n",
        "# TOTAL MARKS : 1MARKS OBTAINED  0"
      ],
      "metadata": {
        "id": "cTrssHi9i8V8"
      },
      "execution_count": null,
      "outputs": []
    },
    {
      "cell_type": "code",
      "source": [
        "# For the given arrays, array1 and array2, if we stack the two arrays row wise, what will be\n",
        "# the output?\n",
        "# array1 = np.array([[1,2],[3,4]])\n",
        "# array2 = np.array([[1,2],[3,4],[5,6],[7,8],[9,10]])\n",
        "\n",
        "# Marked Answer :\n",
        "# None of the above\n",
        "\n",
        "# Correct Answer :\n",
        "# ARRAY([[ 1, 2],[ 3, 4],[ 1, 2],[ 3, 4],[ 5, 6],[ 7, 8],[ 9, 10]])\n",
        "\n",
        "# TOTAL MARKS : 1MARKS OBTAINED  0"
      ],
      "metadata": {
        "id": "4uK6HmBgmGgQ"
      },
      "execution_count": null,
      "outputs": []
    },
    {
      "cell_type": "code",
      "source": [
        "# For the given arrays, array1 and array2, if we stack the two arrays column wise, what will\n",
        "# be the output?\n",
        "# array1 = np.array([[1,2],[3,4]])\n",
        "# array2 = np.array([[5,6],[7,8]])\n",
        "\n",
        "# Marked Answer :\n",
        "# array([[1, 2], [5, 6],[3, 4], [7, 8]])\n",
        "\n",
        "# Correct Answer :\n",
        "# ARRAY([[1, 2, 5, 6],[3, 4, 7, 8]])\n",
        "\n",
        "# TOTAL MARKS : 1MARKS OBTAINED  0"
      ],
      "metadata": {
        "id": "9pWtpT48mIVS"
      },
      "execution_count": null,
      "outputs": []
    },
    {
      "cell_type": "code",
      "source": [],
      "metadata": {
        "id": "CJUCd4oRnY1N"
      },
      "execution_count": null,
      "outputs": []
    }
  ]
}