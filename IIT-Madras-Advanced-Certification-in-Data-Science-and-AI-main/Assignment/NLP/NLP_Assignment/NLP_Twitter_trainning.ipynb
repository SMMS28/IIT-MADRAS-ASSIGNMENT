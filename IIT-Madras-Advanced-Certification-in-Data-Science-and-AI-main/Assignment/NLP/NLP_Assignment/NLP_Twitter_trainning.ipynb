{
  "nbformat": 4,
  "nbformat_minor": 0,
  "metadata": {
    "colab": {
      "provenance": []
    },
    "kernelspec": {
      "name": "python3",
      "display_name": "Python 3"
    },
    "language_info": {
      "name": "python"
    }
  },
  "cells": [
    {
      "cell_type": "code",
      "source": [
        "!git clone https://github.com/PrashantMali07/IIT-Madras-Advanced-Certification-in-Data-Science-and-AI.git"
      ],
      "metadata": {
        "colab": {
          "base_uri": "https://localhost:8080/"
        },
        "id": "GxJ-FumsxuGv",
        "outputId": "fbad0bb0-5326-4687-dd7f-017a4cf8cd58"
      },
      "execution_count": 1,
      "outputs": [
        {
          "output_type": "stream",
          "name": "stdout",
          "text": [
            "fatal: destination path 'IIT-Madras-Advanced-Certification-in-Data-Science-and-AI' already exists and is not an empty directory.\n"
          ]
        }
      ]
    },
    {
      "cell_type": "markdown",
      "source": [
        "# In this project you will be working on two different datasets in which one dataset contains news headlines with unlabeled sentiments. And another dataset contains labeled tweets from the twitter data.\n",
        "\n",
        "## PART 1: Sentiment analysis on tweets or phrases\n",
        "\n",
        "![image.png](data:image/png;base64,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)"
      ],
      "metadata": {
        "id": "UFsF-Y5qVdb-"
      }
    },
    {
      "cell_type": "code",
      "execution_count": 2,
      "metadata": {
        "id": "OcGRcryDw9os"
      },
      "outputs": [],
      "source": [
        "# importing the required libraries\n",
        "import pandas as pd\n",
        "import re\n",
        "import string\n",
        "import nltk\n",
        "from nltk.corpus import stopwords\n",
        "from nltk.tokenize import word_tokenize\n",
        "from nltk.stem import WordNetLemmatizer\n",
        "\n",
        "#Feature Generation Using Bag of Words\n",
        "from sklearn.feature_extraction.text import CountVectorizer\n",
        "from nltk.tokenize import RegexpTokenizer\n",
        "\n",
        "\n",
        "#tf-idf \n",
        "from sklearn.feature_extraction.text import TfidfVectorizer\n",
        "tf=TfidfVectorizer()\n",
        "\n",
        "# LabelEncoder\n",
        "from sklearn.preprocessing import LabelEncoder\n",
        "\n",
        "#splitting in training and testing data\n",
        "from sklearn.model_selection import train_test_split\n",
        "from sklearn.metrics import classification_report, accuracy_score\n",
        "\n",
        "#model Building\n",
        "from sklearn.tree import DecisionTreeClassifier\n",
        "from sklearn.ensemble import RandomForestClassifier"
      ]
    },
    {
      "cell_type": "code",
      "source": [
        "nltk.download('omw-1.4')\n",
        "nltk.download('punkt')\n",
        "nltk.download('stopwords')"
      ],
      "metadata": {
        "colab": {
          "base_uri": "https://localhost:8080/"
        },
        "id": "d5mHO7CyFM_l",
        "outputId": "aa7e64f5-a6a6-46c3-9657-840eb630f660"
      },
      "execution_count": 3,
      "outputs": [
        {
          "output_type": "stream",
          "name": "stderr",
          "text": [
            "[nltk_data] Downloading package omw-1.4 to /root/nltk_data...\n",
            "[nltk_data]   Package omw-1.4 is already up-to-date!\n",
            "[nltk_data] Downloading package punkt to /root/nltk_data...\n",
            "[nltk_data]   Package punkt is already up-to-date!\n",
            "[nltk_data] Downloading package stopwords to /root/nltk_data...\n",
            "[nltk_data]   Package stopwords is already up-to-date!\n"
          ]
        },
        {
          "output_type": "execute_result",
          "data": {
            "text/plain": [
              "True"
            ]
          },
          "metadata": {},
          "execution_count": 3
        }
      ]
    },
    {
      "cell_type": "code",
      "source": [
        "twitter = pd.read_csv(\"/content/IIT-Madras-Advanced-Certification-in-Data-Science-and-AI/Assignment/NLP/NLP_Assignment/twitter_training.csv\")\n",
        "twitter.head()"
      ],
      "metadata": {
        "colab": {
          "base_uri": "https://localhost:8080/",
          "height": 206
        },
        "id": "ZENQlUDqxHvS",
        "outputId": "48322381-dfbf-4a94-e0a3-be2a43ad7831"
      },
      "execution_count": 4,
      "outputs": [
        {
          "output_type": "execute_result",
          "data": {
            "text/plain": [
              "   2401  Borderlands  Positive  \\\n",
              "0  2401  Borderlands  Positive   \n",
              "1  2401  Borderlands  Positive   \n",
              "2  2401  Borderlands  Positive   \n",
              "3  2401  Borderlands  Positive   \n",
              "4  2401  Borderlands  Positive   \n",
              "\n",
              "  im getting on borderlands and i will murder you all ,  \n",
              "0  I am coming to the borders and I will kill you...     \n",
              "1  im getting on borderlands and i will kill you ...     \n",
              "2  im coming on borderlands and i will murder you...     \n",
              "3  im getting on borderlands 2 and i will murder ...     \n",
              "4  im getting into borderlands and i can murder y...     "
            ],
            "text/html": [
              "\n",
              "  <div id=\"df-18488e12-f39f-4d99-ac35-9d7717eee65b\">\n",
              "    <div class=\"colab-df-container\">\n",
              "      <div>\n",
              "<style scoped>\n",
              "    .dataframe tbody tr th:only-of-type {\n",
              "        vertical-align: middle;\n",
              "    }\n",
              "\n",
              "    .dataframe tbody tr th {\n",
              "        vertical-align: top;\n",
              "    }\n",
              "\n",
              "    .dataframe thead th {\n",
              "        text-align: right;\n",
              "    }\n",
              "</style>\n",
              "<table border=\"1\" class=\"dataframe\">\n",
              "  <thead>\n",
              "    <tr style=\"text-align: right;\">\n",
              "      <th></th>\n",
              "      <th>2401</th>\n",
              "      <th>Borderlands</th>\n",
              "      <th>Positive</th>\n",
              "      <th>im getting on borderlands and i will murder you all ,</th>\n",
              "    </tr>\n",
              "  </thead>\n",
              "  <tbody>\n",
              "    <tr>\n",
              "      <th>0</th>\n",
              "      <td>2401</td>\n",
              "      <td>Borderlands</td>\n",
              "      <td>Positive</td>\n",
              "      <td>I am coming to the borders and I will kill you...</td>\n",
              "    </tr>\n",
              "    <tr>\n",
              "      <th>1</th>\n",
              "      <td>2401</td>\n",
              "      <td>Borderlands</td>\n",
              "      <td>Positive</td>\n",
              "      <td>im getting on borderlands and i will kill you ...</td>\n",
              "    </tr>\n",
              "    <tr>\n",
              "      <th>2</th>\n",
              "      <td>2401</td>\n",
              "      <td>Borderlands</td>\n",
              "      <td>Positive</td>\n",
              "      <td>im coming on borderlands and i will murder you...</td>\n",
              "    </tr>\n",
              "    <tr>\n",
              "      <th>3</th>\n",
              "      <td>2401</td>\n",
              "      <td>Borderlands</td>\n",
              "      <td>Positive</td>\n",
              "      <td>im getting on borderlands 2 and i will murder ...</td>\n",
              "    </tr>\n",
              "    <tr>\n",
              "      <th>4</th>\n",
              "      <td>2401</td>\n",
              "      <td>Borderlands</td>\n",
              "      <td>Positive</td>\n",
              "      <td>im getting into borderlands and i can murder y...</td>\n",
              "    </tr>\n",
              "  </tbody>\n",
              "</table>\n",
              "</div>\n",
              "      <button class=\"colab-df-convert\" onclick=\"convertToInteractive('df-18488e12-f39f-4d99-ac35-9d7717eee65b')\"\n",
              "              title=\"Convert this dataframe to an interactive table.\"\n",
              "              style=\"display:none;\">\n",
              "        \n",
              "  <svg xmlns=\"http://www.w3.org/2000/svg\" height=\"24px\"viewBox=\"0 0 24 24\"\n",
              "       width=\"24px\">\n",
              "    <path d=\"M0 0h24v24H0V0z\" fill=\"none\"/>\n",
              "    <path d=\"M18.56 5.44l.94 2.06.94-2.06 2.06-.94-2.06-.94-.94-2.06-.94 2.06-2.06.94zm-11 1L8.5 8.5l.94-2.06 2.06-.94-2.06-.94L8.5 2.5l-.94 2.06-2.06.94zm10 10l.94 2.06.94-2.06 2.06-.94-2.06-.94-.94-2.06-.94 2.06-2.06.94z\"/><path d=\"M17.41 7.96l-1.37-1.37c-.4-.4-.92-.59-1.43-.59-.52 0-1.04.2-1.43.59L10.3 9.45l-7.72 7.72c-.78.78-.78 2.05 0 2.83L4 21.41c.39.39.9.59 1.41.59.51 0 1.02-.2 1.41-.59l7.78-7.78 2.81-2.81c.8-.78.8-2.07 0-2.86zM5.41 20L4 18.59l7.72-7.72 1.47 1.35L5.41 20z\"/>\n",
              "  </svg>\n",
              "      </button>\n",
              "      \n",
              "  <style>\n",
              "    .colab-df-container {\n",
              "      display:flex;\n",
              "      flex-wrap:wrap;\n",
              "      gap: 12px;\n",
              "    }\n",
              "\n",
              "    .colab-df-convert {\n",
              "      background-color: #E8F0FE;\n",
              "      border: none;\n",
              "      border-radius: 50%;\n",
              "      cursor: pointer;\n",
              "      display: none;\n",
              "      fill: #1967D2;\n",
              "      height: 32px;\n",
              "      padding: 0 0 0 0;\n",
              "      width: 32px;\n",
              "    }\n",
              "\n",
              "    .colab-df-convert:hover {\n",
              "      background-color: #E2EBFA;\n",
              "      box-shadow: 0px 1px 2px rgba(60, 64, 67, 0.3), 0px 1px 3px 1px rgba(60, 64, 67, 0.15);\n",
              "      fill: #174EA6;\n",
              "    }\n",
              "\n",
              "    [theme=dark] .colab-df-convert {\n",
              "      background-color: #3B4455;\n",
              "      fill: #D2E3FC;\n",
              "    }\n",
              "\n",
              "    [theme=dark] .colab-df-convert:hover {\n",
              "      background-color: #434B5C;\n",
              "      box-shadow: 0px 1px 3px 1px rgba(0, 0, 0, 0.15);\n",
              "      filter: drop-shadow(0px 1px 2px rgba(0, 0, 0, 0.3));\n",
              "      fill: #FFFFFF;\n",
              "    }\n",
              "  </style>\n",
              "\n",
              "      <script>\n",
              "        const buttonEl =\n",
              "          document.querySelector('#df-18488e12-f39f-4d99-ac35-9d7717eee65b button.colab-df-convert');\n",
              "        buttonEl.style.display =\n",
              "          google.colab.kernel.accessAllowed ? 'block' : 'none';\n",
              "\n",
              "        async function convertToInteractive(key) {\n",
              "          const element = document.querySelector('#df-18488e12-f39f-4d99-ac35-9d7717eee65b');\n",
              "          const dataTable =\n",
              "            await google.colab.kernel.invokeFunction('convertToInteractive',\n",
              "                                                     [key], {});\n",
              "          if (!dataTable) return;\n",
              "\n",
              "          const docLinkHtml = 'Like what you see? Visit the ' +\n",
              "            '<a target=\"_blank\" href=https://colab.research.google.com/notebooks/data_table.ipynb>data table notebook</a>'\n",
              "            + ' to learn more about interactive tables.';\n",
              "          element.innerHTML = '';\n",
              "          dataTable['output_type'] = 'display_data';\n",
              "          await google.colab.output.renderOutput(dataTable, element);\n",
              "          const docLink = document.createElement('div');\n",
              "          docLink.innerHTML = docLinkHtml;\n",
              "          element.appendChild(docLink);\n",
              "        }\n",
              "      </script>\n",
              "    </div>\n",
              "  </div>\n",
              "  "
            ]
          },
          "metadata": {},
          "execution_count": 4
        }
      ]
    },
    {
      "cell_type": "code",
      "source": [
        "twitter.columns = ['Id', 'Brand', 'Sentiment', 'tweets']\n",
        "twitter.head()"
      ],
      "metadata": {
        "colab": {
          "base_uri": "https://localhost:8080/",
          "height": 206
        },
        "id": "-jI-VfPnxN_I",
        "outputId": "0c98fb57-77df-4437-d7d9-0404af55fc7b"
      },
      "execution_count": 5,
      "outputs": [
        {
          "output_type": "execute_result",
          "data": {
            "text/plain": [
              "     Id        Brand Sentiment  \\\n",
              "0  2401  Borderlands  Positive   \n",
              "1  2401  Borderlands  Positive   \n",
              "2  2401  Borderlands  Positive   \n",
              "3  2401  Borderlands  Positive   \n",
              "4  2401  Borderlands  Positive   \n",
              "\n",
              "                                              tweets  \n",
              "0  I am coming to the borders and I will kill you...  \n",
              "1  im getting on borderlands and i will kill you ...  \n",
              "2  im coming on borderlands and i will murder you...  \n",
              "3  im getting on borderlands 2 and i will murder ...  \n",
              "4  im getting into borderlands and i can murder y...  "
            ],
            "text/html": [
              "\n",
              "  <div id=\"df-8079e9dc-245e-4d6c-99e4-8d26056f2604\">\n",
              "    <div class=\"colab-df-container\">\n",
              "      <div>\n",
              "<style scoped>\n",
              "    .dataframe tbody tr th:only-of-type {\n",
              "        vertical-align: middle;\n",
              "    }\n",
              "\n",
              "    .dataframe tbody tr th {\n",
              "        vertical-align: top;\n",
              "    }\n",
              "\n",
              "    .dataframe thead th {\n",
              "        text-align: right;\n",
              "    }\n",
              "</style>\n",
              "<table border=\"1\" class=\"dataframe\">\n",
              "  <thead>\n",
              "    <tr style=\"text-align: right;\">\n",
              "      <th></th>\n",
              "      <th>Id</th>\n",
              "      <th>Brand</th>\n",
              "      <th>Sentiment</th>\n",
              "      <th>tweets</th>\n",
              "    </tr>\n",
              "  </thead>\n",
              "  <tbody>\n",
              "    <tr>\n",
              "      <th>0</th>\n",
              "      <td>2401</td>\n",
              "      <td>Borderlands</td>\n",
              "      <td>Positive</td>\n",
              "      <td>I am coming to the borders and I will kill you...</td>\n",
              "    </tr>\n",
              "    <tr>\n",
              "      <th>1</th>\n",
              "      <td>2401</td>\n",
              "      <td>Borderlands</td>\n",
              "      <td>Positive</td>\n",
              "      <td>im getting on borderlands and i will kill you ...</td>\n",
              "    </tr>\n",
              "    <tr>\n",
              "      <th>2</th>\n",
              "      <td>2401</td>\n",
              "      <td>Borderlands</td>\n",
              "      <td>Positive</td>\n",
              "      <td>im coming on borderlands and i will murder you...</td>\n",
              "    </tr>\n",
              "    <tr>\n",
              "      <th>3</th>\n",
              "      <td>2401</td>\n",
              "      <td>Borderlands</td>\n",
              "      <td>Positive</td>\n",
              "      <td>im getting on borderlands 2 and i will murder ...</td>\n",
              "    </tr>\n",
              "    <tr>\n",
              "      <th>4</th>\n",
              "      <td>2401</td>\n",
              "      <td>Borderlands</td>\n",
              "      <td>Positive</td>\n",
              "      <td>im getting into borderlands and i can murder y...</td>\n",
              "    </tr>\n",
              "  </tbody>\n",
              "</table>\n",
              "</div>\n",
              "      <button class=\"colab-df-convert\" onclick=\"convertToInteractive('df-8079e9dc-245e-4d6c-99e4-8d26056f2604')\"\n",
              "              title=\"Convert this dataframe to an interactive table.\"\n",
              "              style=\"display:none;\">\n",
              "        \n",
              "  <svg xmlns=\"http://www.w3.org/2000/svg\" height=\"24px\"viewBox=\"0 0 24 24\"\n",
              "       width=\"24px\">\n",
              "    <path d=\"M0 0h24v24H0V0z\" fill=\"none\"/>\n",
              "    <path d=\"M18.56 5.44l.94 2.06.94-2.06 2.06-.94-2.06-.94-.94-2.06-.94 2.06-2.06.94zm-11 1L8.5 8.5l.94-2.06 2.06-.94-2.06-.94L8.5 2.5l-.94 2.06-2.06.94zm10 10l.94 2.06.94-2.06 2.06-.94-2.06-.94-.94-2.06-.94 2.06-2.06.94z\"/><path d=\"M17.41 7.96l-1.37-1.37c-.4-.4-.92-.59-1.43-.59-.52 0-1.04.2-1.43.59L10.3 9.45l-7.72 7.72c-.78.78-.78 2.05 0 2.83L4 21.41c.39.39.9.59 1.41.59.51 0 1.02-.2 1.41-.59l7.78-7.78 2.81-2.81c.8-.78.8-2.07 0-2.86zM5.41 20L4 18.59l7.72-7.72 1.47 1.35L5.41 20z\"/>\n",
              "  </svg>\n",
              "      </button>\n",
              "      \n",
              "  <style>\n",
              "    .colab-df-container {\n",
              "      display:flex;\n",
              "      flex-wrap:wrap;\n",
              "      gap: 12px;\n",
              "    }\n",
              "\n",
              "    .colab-df-convert {\n",
              "      background-color: #E8F0FE;\n",
              "      border: none;\n",
              "      border-radius: 50%;\n",
              "      cursor: pointer;\n",
              "      display: none;\n",
              "      fill: #1967D2;\n",
              "      height: 32px;\n",
              "      padding: 0 0 0 0;\n",
              "      width: 32px;\n",
              "    }\n",
              "\n",
              "    .colab-df-convert:hover {\n",
              "      background-color: #E2EBFA;\n",
              "      box-shadow: 0px 1px 2px rgba(60, 64, 67, 0.3), 0px 1px 3px 1px rgba(60, 64, 67, 0.15);\n",
              "      fill: #174EA6;\n",
              "    }\n",
              "\n",
              "    [theme=dark] .colab-df-convert {\n",
              "      background-color: #3B4455;\n",
              "      fill: #D2E3FC;\n",
              "    }\n",
              "\n",
              "    [theme=dark] .colab-df-convert:hover {\n",
              "      background-color: #434B5C;\n",
              "      box-shadow: 0px 1px 3px 1px rgba(0, 0, 0, 0.15);\n",
              "      filter: drop-shadow(0px 1px 2px rgba(0, 0, 0, 0.3));\n",
              "      fill: #FFFFFF;\n",
              "    }\n",
              "  </style>\n",
              "\n",
              "      <script>\n",
              "        const buttonEl =\n",
              "          document.querySelector('#df-8079e9dc-245e-4d6c-99e4-8d26056f2604 button.colab-df-convert');\n",
              "        buttonEl.style.display =\n",
              "          google.colab.kernel.accessAllowed ? 'block' : 'none';\n",
              "\n",
              "        async function convertToInteractive(key) {\n",
              "          const element = document.querySelector('#df-8079e9dc-245e-4d6c-99e4-8d26056f2604');\n",
              "          const dataTable =\n",
              "            await google.colab.kernel.invokeFunction('convertToInteractive',\n",
              "                                                     [key], {});\n",
              "          if (!dataTable) return;\n",
              "\n",
              "          const docLinkHtml = 'Like what you see? Visit the ' +\n",
              "            '<a target=\"_blank\" href=https://colab.research.google.com/notebooks/data_table.ipynb>data table notebook</a>'\n",
              "            + ' to learn more about interactive tables.';\n",
              "          element.innerHTML = '';\n",
              "          dataTable['output_type'] = 'display_data';\n",
              "          await google.colab.output.renderOutput(dataTable, element);\n",
              "          const docLink = document.createElement('div');\n",
              "          docLink.innerHTML = docLinkHtml;\n",
              "          element.appendChild(docLink);\n",
              "        }\n",
              "      </script>\n",
              "    </div>\n",
              "  </div>\n",
              "  "
            ]
          },
          "metadata": {},
          "execution_count": 5
        }
      ]
    },
    {
      "cell_type": "code",
      "source": [
        "twitter.info() # tweets columns has some null enteries"
      ],
      "metadata": {
        "colab": {
          "base_uri": "https://localhost:8080/"
        },
        "id": "5hqXCTDP0rx5",
        "outputId": "ba68f985-ee7c-40e8-cb81-fea570f72085"
      },
      "execution_count": 6,
      "outputs": [
        {
          "output_type": "stream",
          "name": "stdout",
          "text": [
            "<class 'pandas.core.frame.DataFrame'>\n",
            "RangeIndex: 74681 entries, 0 to 74680\n",
            "Data columns (total 4 columns):\n",
            " #   Column     Non-Null Count  Dtype \n",
            "---  ------     --------------  ----- \n",
            " 0   Id         74681 non-null  int64 \n",
            " 1   Brand      74681 non-null  object\n",
            " 2   Sentiment  74681 non-null  object\n",
            " 3   tweets     73995 non-null  object\n",
            "dtypes: int64(1), object(3)\n",
            "memory usage: 2.3+ MB\n"
          ]
        }
      ]
    },
    {
      "cell_type": "code",
      "source": [
        "twitter.isna().sum()"
      ],
      "metadata": {
        "colab": {
          "base_uri": "https://localhost:8080/"
        },
        "id": "QVavBzAHIvti",
        "outputId": "a4d4dfb1-03a7-48e3-8db4-855c8be71861"
      },
      "execution_count": 7,
      "outputs": [
        {
          "output_type": "execute_result",
          "data": {
            "text/plain": [
              "Id             0\n",
              "Brand          0\n",
              "Sentiment      0\n",
              "tweets       686\n",
              "dtype: int64"
            ]
          },
          "metadata": {},
          "execution_count": 7
        }
      ]
    },
    {
      "cell_type": "code",
      "source": [
        "# dropping the nan values\n",
        "twitter = twitter.dropna()"
      ],
      "metadata": {
        "id": "wGZc5EasI0Ha"
      },
      "execution_count": 8,
      "outputs": []
    },
    {
      "cell_type": "code",
      "source": [
        "twitter.shape"
      ],
      "metadata": {
        "colab": {
          "base_uri": "https://localhost:8080/"
        },
        "id": "REatkSDP07uv",
        "outputId": "3e3f7915-fae5-4d4c-c904-a2d752294465"
      },
      "execution_count": 9,
      "outputs": [
        {
          "output_type": "execute_result",
          "data": {
            "text/plain": [
              "(73995, 4)"
            ]
          },
          "metadata": {},
          "execution_count": 9
        }
      ]
    },
    {
      "cell_type": "code",
      "source": [
        "# required functions for the word preprocessing steps\n",
        "\n",
        "# for lowering the sentences\n",
        "def lowercase_text(text):\n",
        "    return text.lower()\n",
        "\n",
        "\n",
        "def remove_punctuation(text):\n",
        "    return text.translate(str.maketrans('', '', string.punctuation))\n",
        "\n",
        "\n",
        "def tokenize_text(text):\n",
        "    return nltk.word_tokenize(text)\n",
        "\n",
        "\n",
        "def remove_stopwords(text):\n",
        "    stop_words = set(stopwords.words('english'))\n",
        "    filtered_text = [word for word in text if word.lower() not in stop_words]\n",
        "    return filtered_text\n"
      ],
      "metadata": {
        "id": "yBg4ukcBzn0q"
      },
      "execution_count": 10,
      "outputs": []
    },
    {
      "cell_type": "code",
      "source": [
        "twitter['final_text'] = twitter.tweets.apply(lowercase_text).apply(remove_punctuation).apply(tokenize_text).apply(remove_stopwords)\n",
        "\n",
        "twitter.head(20)"
      ],
      "metadata": {
        "id": "Wf6JpkEM0l_R",
        "colab": {
          "base_uri": "https://localhost:8080/",
          "height": 677
        },
        "outputId": "a6685779-daf4-44f3-ab56-faf9f8b02bcf"
      },
      "execution_count": 11,
      "outputs": [
        {
          "output_type": "execute_result",
          "data": {
            "text/plain": [
              "      Id        Brand Sentiment  \\\n",
              "0   2401  Borderlands  Positive   \n",
              "1   2401  Borderlands  Positive   \n",
              "2   2401  Borderlands  Positive   \n",
              "3   2401  Borderlands  Positive   \n",
              "4   2401  Borderlands  Positive   \n",
              "5   2402  Borderlands  Positive   \n",
              "6   2402  Borderlands  Positive   \n",
              "7   2402  Borderlands  Positive   \n",
              "8   2402  Borderlands  Positive   \n",
              "9   2402  Borderlands  Positive   \n",
              "10  2402  Borderlands  Positive   \n",
              "11  2403  Borderlands   Neutral   \n",
              "12  2403  Borderlands   Neutral   \n",
              "13  2403  Borderlands   Neutral   \n",
              "14  2403  Borderlands   Neutral   \n",
              "15  2403  Borderlands   Neutral   \n",
              "16  2403  Borderlands   Neutral   \n",
              "17  2404  Borderlands  Positive   \n",
              "18  2404  Borderlands  Positive   \n",
              "19  2404  Borderlands  Positive   \n",
              "\n",
              "                                               tweets  \\\n",
              "0   I am coming to the borders and I will kill you...   \n",
              "1   im getting on borderlands and i will kill you ...   \n",
              "2   im coming on borderlands and i will murder you...   \n",
              "3   im getting on borderlands 2 and i will murder ...   \n",
              "4   im getting into borderlands and i can murder y...   \n",
              "5   So I spent a few hours making something for fu...   \n",
              "6   So I spent a couple of hours doing something f...   \n",
              "7   So I spent a few hours doing something for fun...   \n",
              "8   So I spent a few hours making something for fu...   \n",
              "9   2010 So I spent a few hours making something f...   \n",
              "10                                                was   \n",
              "11  Rock-Hard La Varlope, RARE & POWERFUL, HANDSOM...   \n",
              "12  Rock-Hard La Varlope, RARE & POWERFUL, HANDSOM...   \n",
              "13  Rock-Hard La Varlope, RARE & POWERFUL, HANDSOM...   \n",
              "14  Rock-Hard La Vita, RARE BUT POWERFUL, HANDSOME...   \n",
              "15  Live Rock - Hard music La la Varlope, RARE & t...   \n",
              "16  I-Hard like me, RARE LONDON DE, HANDSOME 2011,...   \n",
              "17  that was the first borderlands session in a lo...   \n",
              "18  this was the first Borderlands session in a lo...   \n",
              "19  that was the first borderlands session in a lo...   \n",
              "\n",
              "                                           final_text  \n",
              "0                             [coming, borders, kill]  \n",
              "1                    [im, getting, borderlands, kill]  \n",
              "2                   [im, coming, borderlands, murder]  \n",
              "3               [im, getting, borderlands, 2, murder]  \n",
              "4                  [im, getting, borderlands, murder]  \n",
              "5   [spent, hours, making, something, fun, dont, k...  \n",
              "6   [spent, couple, hours, something, fun, dont, k...  \n",
              "7   [spent, hours, something, fun, dont, know, im,...  \n",
              "8   [spent, hours, making, something, fun, dont, k...  \n",
              "9   [2010, spent, hours, making, something, fun, d...  \n",
              "10                                                 []  \n",
              "11  [rockhard, la, varlope, rare, powerful, handso...  \n",
              "12  [rockhard, la, varlope, rare, powerful, handso...  \n",
              "13  [rockhard, la, varlope, rare, powerful, handso...  \n",
              "14  [rockhard, la, vita, rare, powerful, handsome,...  \n",
              "15  [live, rock, hard, music, la, la, varlope, rar...  \n",
              "16  [ihard, like, rare, london, de, handsome, 2011...  \n",
              "17  [first, borderlands, session, long, time, actu...  \n",
              "18  [first, borderlands, session, long, time, actu...  \n",
              "19  [first, borderlands, session, long, time, actu...  "
            ],
            "text/html": [
              "\n",
              "  <div id=\"df-040ba2b2-7404-4f99-ba0b-49f7c777d4b4\">\n",
              "    <div class=\"colab-df-container\">\n",
              "      <div>\n",
              "<style scoped>\n",
              "    .dataframe tbody tr th:only-of-type {\n",
              "        vertical-align: middle;\n",
              "    }\n",
              "\n",
              "    .dataframe tbody tr th {\n",
              "        vertical-align: top;\n",
              "    }\n",
              "\n",
              "    .dataframe thead th {\n",
              "        text-align: right;\n",
              "    }\n",
              "</style>\n",
              "<table border=\"1\" class=\"dataframe\">\n",
              "  <thead>\n",
              "    <tr style=\"text-align: right;\">\n",
              "      <th></th>\n",
              "      <th>Id</th>\n",
              "      <th>Brand</th>\n",
              "      <th>Sentiment</th>\n",
              "      <th>tweets</th>\n",
              "      <th>final_text</th>\n",
              "    </tr>\n",
              "  </thead>\n",
              "  <tbody>\n",
              "    <tr>\n",
              "      <th>0</th>\n",
              "      <td>2401</td>\n",
              "      <td>Borderlands</td>\n",
              "      <td>Positive</td>\n",
              "      <td>I am coming to the borders and I will kill you...</td>\n",
              "      <td>[coming, borders, kill]</td>\n",
              "    </tr>\n",
              "    <tr>\n",
              "      <th>1</th>\n",
              "      <td>2401</td>\n",
              "      <td>Borderlands</td>\n",
              "      <td>Positive</td>\n",
              "      <td>im getting on borderlands and i will kill you ...</td>\n",
              "      <td>[im, getting, borderlands, kill]</td>\n",
              "    </tr>\n",
              "    <tr>\n",
              "      <th>2</th>\n",
              "      <td>2401</td>\n",
              "      <td>Borderlands</td>\n",
              "      <td>Positive</td>\n",
              "      <td>im coming on borderlands and i will murder you...</td>\n",
              "      <td>[im, coming, borderlands, murder]</td>\n",
              "    </tr>\n",
              "    <tr>\n",
              "      <th>3</th>\n",
              "      <td>2401</td>\n",
              "      <td>Borderlands</td>\n",
              "      <td>Positive</td>\n",
              "      <td>im getting on borderlands 2 and i will murder ...</td>\n",
              "      <td>[im, getting, borderlands, 2, murder]</td>\n",
              "    </tr>\n",
              "    <tr>\n",
              "      <th>4</th>\n",
              "      <td>2401</td>\n",
              "      <td>Borderlands</td>\n",
              "      <td>Positive</td>\n",
              "      <td>im getting into borderlands and i can murder y...</td>\n",
              "      <td>[im, getting, borderlands, murder]</td>\n",
              "    </tr>\n",
              "    <tr>\n",
              "      <th>5</th>\n",
              "      <td>2402</td>\n",
              "      <td>Borderlands</td>\n",
              "      <td>Positive</td>\n",
              "      <td>So I spent a few hours making something for fu...</td>\n",
              "      <td>[spent, hours, making, something, fun, dont, k...</td>\n",
              "    </tr>\n",
              "    <tr>\n",
              "      <th>6</th>\n",
              "      <td>2402</td>\n",
              "      <td>Borderlands</td>\n",
              "      <td>Positive</td>\n",
              "      <td>So I spent a couple of hours doing something f...</td>\n",
              "      <td>[spent, couple, hours, something, fun, dont, k...</td>\n",
              "    </tr>\n",
              "    <tr>\n",
              "      <th>7</th>\n",
              "      <td>2402</td>\n",
              "      <td>Borderlands</td>\n",
              "      <td>Positive</td>\n",
              "      <td>So I spent a few hours doing something for fun...</td>\n",
              "      <td>[spent, hours, something, fun, dont, know, im,...</td>\n",
              "    </tr>\n",
              "    <tr>\n",
              "      <th>8</th>\n",
              "      <td>2402</td>\n",
              "      <td>Borderlands</td>\n",
              "      <td>Positive</td>\n",
              "      <td>So I spent a few hours making something for fu...</td>\n",
              "      <td>[spent, hours, making, something, fun, dont, k...</td>\n",
              "    </tr>\n",
              "    <tr>\n",
              "      <th>9</th>\n",
              "      <td>2402</td>\n",
              "      <td>Borderlands</td>\n",
              "      <td>Positive</td>\n",
              "      <td>2010 So I spent a few hours making something f...</td>\n",
              "      <td>[2010, spent, hours, making, something, fun, d...</td>\n",
              "    </tr>\n",
              "    <tr>\n",
              "      <th>10</th>\n",
              "      <td>2402</td>\n",
              "      <td>Borderlands</td>\n",
              "      <td>Positive</td>\n",
              "      <td>was</td>\n",
              "      <td>[]</td>\n",
              "    </tr>\n",
              "    <tr>\n",
              "      <th>11</th>\n",
              "      <td>2403</td>\n",
              "      <td>Borderlands</td>\n",
              "      <td>Neutral</td>\n",
              "      <td>Rock-Hard La Varlope, RARE &amp; POWERFUL, HANDSOM...</td>\n",
              "      <td>[rockhard, la, varlope, rare, powerful, handso...</td>\n",
              "    </tr>\n",
              "    <tr>\n",
              "      <th>12</th>\n",
              "      <td>2403</td>\n",
              "      <td>Borderlands</td>\n",
              "      <td>Neutral</td>\n",
              "      <td>Rock-Hard La Varlope, RARE &amp; POWERFUL, HANDSOM...</td>\n",
              "      <td>[rockhard, la, varlope, rare, powerful, handso...</td>\n",
              "    </tr>\n",
              "    <tr>\n",
              "      <th>13</th>\n",
              "      <td>2403</td>\n",
              "      <td>Borderlands</td>\n",
              "      <td>Neutral</td>\n",
              "      <td>Rock-Hard La Varlope, RARE &amp; POWERFUL, HANDSOM...</td>\n",
              "      <td>[rockhard, la, varlope, rare, powerful, handso...</td>\n",
              "    </tr>\n",
              "    <tr>\n",
              "      <th>14</th>\n",
              "      <td>2403</td>\n",
              "      <td>Borderlands</td>\n",
              "      <td>Neutral</td>\n",
              "      <td>Rock-Hard La Vita, RARE BUT POWERFUL, HANDSOME...</td>\n",
              "      <td>[rockhard, la, vita, rare, powerful, handsome,...</td>\n",
              "    </tr>\n",
              "    <tr>\n",
              "      <th>15</th>\n",
              "      <td>2403</td>\n",
              "      <td>Borderlands</td>\n",
              "      <td>Neutral</td>\n",
              "      <td>Live Rock - Hard music La la Varlope, RARE &amp; t...</td>\n",
              "      <td>[live, rock, hard, music, la, la, varlope, rar...</td>\n",
              "    </tr>\n",
              "    <tr>\n",
              "      <th>16</th>\n",
              "      <td>2403</td>\n",
              "      <td>Borderlands</td>\n",
              "      <td>Neutral</td>\n",
              "      <td>I-Hard like me, RARE LONDON DE, HANDSOME 2011,...</td>\n",
              "      <td>[ihard, like, rare, london, de, handsome, 2011...</td>\n",
              "    </tr>\n",
              "    <tr>\n",
              "      <th>17</th>\n",
              "      <td>2404</td>\n",
              "      <td>Borderlands</td>\n",
              "      <td>Positive</td>\n",
              "      <td>that was the first borderlands session in a lo...</td>\n",
              "      <td>[first, borderlands, session, long, time, actu...</td>\n",
              "    </tr>\n",
              "    <tr>\n",
              "      <th>18</th>\n",
              "      <td>2404</td>\n",
              "      <td>Borderlands</td>\n",
              "      <td>Positive</td>\n",
              "      <td>this was the first Borderlands session in a lo...</td>\n",
              "      <td>[first, borderlands, session, long, time, actu...</td>\n",
              "    </tr>\n",
              "    <tr>\n",
              "      <th>19</th>\n",
              "      <td>2404</td>\n",
              "      <td>Borderlands</td>\n",
              "      <td>Positive</td>\n",
              "      <td>that was the first borderlands session in a lo...</td>\n",
              "      <td>[first, borderlands, session, long, time, actu...</td>\n",
              "    </tr>\n",
              "  </tbody>\n",
              "</table>\n",
              "</div>\n",
              "      <button class=\"colab-df-convert\" onclick=\"convertToInteractive('df-040ba2b2-7404-4f99-ba0b-49f7c777d4b4')\"\n",
              "              title=\"Convert this dataframe to an interactive table.\"\n",
              "              style=\"display:none;\">\n",
              "        \n",
              "  <svg xmlns=\"http://www.w3.org/2000/svg\" height=\"24px\"viewBox=\"0 0 24 24\"\n",
              "       width=\"24px\">\n",
              "    <path d=\"M0 0h24v24H0V0z\" fill=\"none\"/>\n",
              "    <path d=\"M18.56 5.44l.94 2.06.94-2.06 2.06-.94-2.06-.94-.94-2.06-.94 2.06-2.06.94zm-11 1L8.5 8.5l.94-2.06 2.06-.94-2.06-.94L8.5 2.5l-.94 2.06-2.06.94zm10 10l.94 2.06.94-2.06 2.06-.94-2.06-.94-.94-2.06-.94 2.06-2.06.94z\"/><path d=\"M17.41 7.96l-1.37-1.37c-.4-.4-.92-.59-1.43-.59-.52 0-1.04.2-1.43.59L10.3 9.45l-7.72 7.72c-.78.78-.78 2.05 0 2.83L4 21.41c.39.39.9.59 1.41.59.51 0 1.02-.2 1.41-.59l7.78-7.78 2.81-2.81c.8-.78.8-2.07 0-2.86zM5.41 20L4 18.59l7.72-7.72 1.47 1.35L5.41 20z\"/>\n",
              "  </svg>\n",
              "      </button>\n",
              "      \n",
              "  <style>\n",
              "    .colab-df-container {\n",
              "      display:flex;\n",
              "      flex-wrap:wrap;\n",
              "      gap: 12px;\n",
              "    }\n",
              "\n",
              "    .colab-df-convert {\n",
              "      background-color: #E8F0FE;\n",
              "      border: none;\n",
              "      border-radius: 50%;\n",
              "      cursor: pointer;\n",
              "      display: none;\n",
              "      fill: #1967D2;\n",
              "      height: 32px;\n",
              "      padding: 0 0 0 0;\n",
              "      width: 32px;\n",
              "    }\n",
              "\n",
              "    .colab-df-convert:hover {\n",
              "      background-color: #E2EBFA;\n",
              "      box-shadow: 0px 1px 2px rgba(60, 64, 67, 0.3), 0px 1px 3px 1px rgba(60, 64, 67, 0.15);\n",
              "      fill: #174EA6;\n",
              "    }\n",
              "\n",
              "    [theme=dark] .colab-df-convert {\n",
              "      background-color: #3B4455;\n",
              "      fill: #D2E3FC;\n",
              "    }\n",
              "\n",
              "    [theme=dark] .colab-df-convert:hover {\n",
              "      background-color: #434B5C;\n",
              "      box-shadow: 0px 1px 3px 1px rgba(0, 0, 0, 0.15);\n",
              "      filter: drop-shadow(0px 1px 2px rgba(0, 0, 0, 0.3));\n",
              "      fill: #FFFFFF;\n",
              "    }\n",
              "  </style>\n",
              "\n",
              "      <script>\n",
              "        const buttonEl =\n",
              "          document.querySelector('#df-040ba2b2-7404-4f99-ba0b-49f7c777d4b4 button.colab-df-convert');\n",
              "        buttonEl.style.display =\n",
              "          google.colab.kernel.accessAllowed ? 'block' : 'none';\n",
              "\n",
              "        async function convertToInteractive(key) {\n",
              "          const element = document.querySelector('#df-040ba2b2-7404-4f99-ba0b-49f7c777d4b4');\n",
              "          const dataTable =\n",
              "            await google.colab.kernel.invokeFunction('convertToInteractive',\n",
              "                                                     [key], {});\n",
              "          if (!dataTable) return;\n",
              "\n",
              "          const docLinkHtml = 'Like what you see? Visit the ' +\n",
              "            '<a target=\"_blank\" href=https://colab.research.google.com/notebooks/data_table.ipynb>data table notebook</a>'\n",
              "            + ' to learn more about interactive tables.';\n",
              "          element.innerHTML = '';\n",
              "          dataTable['output_type'] = 'display_data';\n",
              "          await google.colab.output.renderOutput(dataTable, element);\n",
              "          const docLink = document.createElement('div');\n",
              "          docLink.innerHTML = docLinkHtml;\n",
              "          element.appendChild(docLink);\n",
              "        }\n",
              "      </script>\n",
              "    </div>\n",
              "  </div>\n",
              "  "
            ]
          },
          "metadata": {},
          "execution_count": 11
        }
      ]
    },
    {
      "cell_type": "code",
      "source": [
        "twitter = twitter[twitter['final_text'].notnull()]\n",
        "twitter = twitter[twitter['final_text'].map(lambda x: len(x) > 0)]\n",
        "twitter.shape"
      ],
      "metadata": {
        "colab": {
          "base_uri": "https://localhost:8080/"
        },
        "id": "7gS8yh9ROh1e",
        "outputId": "cbede64e-ab0d-4f16-c6e2-0658a72e9c50"
      },
      "execution_count": 12,
      "outputs": [
        {
          "output_type": "execute_result",
          "data": {
            "text/plain": [
              "(72437, 5)"
            ]
          },
          "metadata": {},
          "execution_count": 12
        }
      ]
    },
    {
      "cell_type": "code",
      "source": [
        "twitter = twitter.reset_index()"
      ],
      "metadata": {
        "id": "3kGr5ai6VF2z"
      },
      "execution_count": 13,
      "outputs": []
    },
    {
      "cell_type": "code",
      "source": [
        "# twitter.to_csv('twitter_new.csv', header=False, index=False)"
      ],
      "metadata": {
        "id": "M4RQXuYKQ7Jt"
      },
      "execution_count": 14,
      "outputs": []
    },
    {
      "cell_type": "code",
      "source": [
        "# converting the list of words into the sentences from the 'final_text' columns \n",
        "\n",
        "for i in range(len(twitter)):\n",
        "  twitter['final_text'][i] = \" \".join(twitter['final_text'][i])"
      ],
      "metadata": {
        "colab": {
          "base_uri": "https://localhost:8080/"
        },
        "id": "dutNe1c1ONRj",
        "outputId": "737708d0-e6d7-4ee7-96b8-a5af3b48860c"
      },
      "execution_count": 15,
      "outputs": [
        {
          "output_type": "stream",
          "name": "stderr",
          "text": [
            "<ipython-input-15-eb057d5ee301>:4: SettingWithCopyWarning: \n",
            "A value is trying to be set on a copy of a slice from a DataFrame\n",
            "\n",
            "See the caveats in the documentation: https://pandas.pydata.org/pandas-docs/stable/user_guide/indexing.html#returning-a-view-versus-a-copy\n",
            "  twitter['final_text'][i] = \" \".join(twitter['final_text'][i])\n"
          ]
        }
      ]
    },
    {
      "cell_type": "code",
      "source": [
        "twitter.head()"
      ],
      "metadata": {
        "colab": {
          "base_uri": "https://localhost:8080/",
          "height": 206
        },
        "id": "-Bqr85UMXogZ",
        "outputId": "12a4fe96-a848-4ae5-c8fd-47afd683ea90"
      },
      "execution_count": 16,
      "outputs": [
        {
          "output_type": "execute_result",
          "data": {
            "text/plain": [
              "   index    Id        Brand Sentiment  \\\n",
              "0      0  2401  Borderlands  Positive   \n",
              "1      1  2401  Borderlands  Positive   \n",
              "2      2  2401  Borderlands  Positive   \n",
              "3      3  2401  Borderlands  Positive   \n",
              "4      4  2401  Borderlands  Positive   \n",
              "\n",
              "                                              tweets  \\\n",
              "0  I am coming to the borders and I will kill you...   \n",
              "1  im getting on borderlands and i will kill you ...   \n",
              "2  im coming on borderlands and i will murder you...   \n",
              "3  im getting on borderlands 2 and i will murder ...   \n",
              "4  im getting into borderlands and i can murder y...   \n",
              "\n",
              "                        final_text  \n",
              "0              coming borders kill  \n",
              "1      im getting borderlands kill  \n",
              "2     im coming borderlands murder  \n",
              "3  im getting borderlands 2 murder  \n",
              "4    im getting borderlands murder  "
            ],
            "text/html": [
              "\n",
              "  <div id=\"df-5fd71d4a-fbde-424b-9439-9211f4e76646\">\n",
              "    <div class=\"colab-df-container\">\n",
              "      <div>\n",
              "<style scoped>\n",
              "    .dataframe tbody tr th:only-of-type {\n",
              "        vertical-align: middle;\n",
              "    }\n",
              "\n",
              "    .dataframe tbody tr th {\n",
              "        vertical-align: top;\n",
              "    }\n",
              "\n",
              "    .dataframe thead th {\n",
              "        text-align: right;\n",
              "    }\n",
              "</style>\n",
              "<table border=\"1\" class=\"dataframe\">\n",
              "  <thead>\n",
              "    <tr style=\"text-align: right;\">\n",
              "      <th></th>\n",
              "      <th>index</th>\n",
              "      <th>Id</th>\n",
              "      <th>Brand</th>\n",
              "      <th>Sentiment</th>\n",
              "      <th>tweets</th>\n",
              "      <th>final_text</th>\n",
              "    </tr>\n",
              "  </thead>\n",
              "  <tbody>\n",
              "    <tr>\n",
              "      <th>0</th>\n",
              "      <td>0</td>\n",
              "      <td>2401</td>\n",
              "      <td>Borderlands</td>\n",
              "      <td>Positive</td>\n",
              "      <td>I am coming to the borders and I will kill you...</td>\n",
              "      <td>coming borders kill</td>\n",
              "    </tr>\n",
              "    <tr>\n",
              "      <th>1</th>\n",
              "      <td>1</td>\n",
              "      <td>2401</td>\n",
              "      <td>Borderlands</td>\n",
              "      <td>Positive</td>\n",
              "      <td>im getting on borderlands and i will kill you ...</td>\n",
              "      <td>im getting borderlands kill</td>\n",
              "    </tr>\n",
              "    <tr>\n",
              "      <th>2</th>\n",
              "      <td>2</td>\n",
              "      <td>2401</td>\n",
              "      <td>Borderlands</td>\n",
              "      <td>Positive</td>\n",
              "      <td>im coming on borderlands and i will murder you...</td>\n",
              "      <td>im coming borderlands murder</td>\n",
              "    </tr>\n",
              "    <tr>\n",
              "      <th>3</th>\n",
              "      <td>3</td>\n",
              "      <td>2401</td>\n",
              "      <td>Borderlands</td>\n",
              "      <td>Positive</td>\n",
              "      <td>im getting on borderlands 2 and i will murder ...</td>\n",
              "      <td>im getting borderlands 2 murder</td>\n",
              "    </tr>\n",
              "    <tr>\n",
              "      <th>4</th>\n",
              "      <td>4</td>\n",
              "      <td>2401</td>\n",
              "      <td>Borderlands</td>\n",
              "      <td>Positive</td>\n",
              "      <td>im getting into borderlands and i can murder y...</td>\n",
              "      <td>im getting borderlands murder</td>\n",
              "    </tr>\n",
              "  </tbody>\n",
              "</table>\n",
              "</div>\n",
              "      <button class=\"colab-df-convert\" onclick=\"convertToInteractive('df-5fd71d4a-fbde-424b-9439-9211f4e76646')\"\n",
              "              title=\"Convert this dataframe to an interactive table.\"\n",
              "              style=\"display:none;\">\n",
              "        \n",
              "  <svg xmlns=\"http://www.w3.org/2000/svg\" height=\"24px\"viewBox=\"0 0 24 24\"\n",
              "       width=\"24px\">\n",
              "    <path d=\"M0 0h24v24H0V0z\" fill=\"none\"/>\n",
              "    <path d=\"M18.56 5.44l.94 2.06.94-2.06 2.06-.94-2.06-.94-.94-2.06-.94 2.06-2.06.94zm-11 1L8.5 8.5l.94-2.06 2.06-.94-2.06-.94L8.5 2.5l-.94 2.06-2.06.94zm10 10l.94 2.06.94-2.06 2.06-.94-2.06-.94-.94-2.06-.94 2.06-2.06.94z\"/><path d=\"M17.41 7.96l-1.37-1.37c-.4-.4-.92-.59-1.43-.59-.52 0-1.04.2-1.43.59L10.3 9.45l-7.72 7.72c-.78.78-.78 2.05 0 2.83L4 21.41c.39.39.9.59 1.41.59.51 0 1.02-.2 1.41-.59l7.78-7.78 2.81-2.81c.8-.78.8-2.07 0-2.86zM5.41 20L4 18.59l7.72-7.72 1.47 1.35L5.41 20z\"/>\n",
              "  </svg>\n",
              "      </button>\n",
              "      \n",
              "  <style>\n",
              "    .colab-df-container {\n",
              "      display:flex;\n",
              "      flex-wrap:wrap;\n",
              "      gap: 12px;\n",
              "    }\n",
              "\n",
              "    .colab-df-convert {\n",
              "      background-color: #E8F0FE;\n",
              "      border: none;\n",
              "      border-radius: 50%;\n",
              "      cursor: pointer;\n",
              "      display: none;\n",
              "      fill: #1967D2;\n",
              "      height: 32px;\n",
              "      padding: 0 0 0 0;\n",
              "      width: 32px;\n",
              "    }\n",
              "\n",
              "    .colab-df-convert:hover {\n",
              "      background-color: #E2EBFA;\n",
              "      box-shadow: 0px 1px 2px rgba(60, 64, 67, 0.3), 0px 1px 3px 1px rgba(60, 64, 67, 0.15);\n",
              "      fill: #174EA6;\n",
              "    }\n",
              "\n",
              "    [theme=dark] .colab-df-convert {\n",
              "      background-color: #3B4455;\n",
              "      fill: #D2E3FC;\n",
              "    }\n",
              "\n",
              "    [theme=dark] .colab-df-convert:hover {\n",
              "      background-color: #434B5C;\n",
              "      box-shadow: 0px 1px 3px 1px rgba(0, 0, 0, 0.15);\n",
              "      filter: drop-shadow(0px 1px 2px rgba(0, 0, 0, 0.3));\n",
              "      fill: #FFFFFF;\n",
              "    }\n",
              "  </style>\n",
              "\n",
              "      <script>\n",
              "        const buttonEl =\n",
              "          document.querySelector('#df-5fd71d4a-fbde-424b-9439-9211f4e76646 button.colab-df-convert');\n",
              "        buttonEl.style.display =\n",
              "          google.colab.kernel.accessAllowed ? 'block' : 'none';\n",
              "\n",
              "        async function convertToInteractive(key) {\n",
              "          const element = document.querySelector('#df-5fd71d4a-fbde-424b-9439-9211f4e76646');\n",
              "          const dataTable =\n",
              "            await google.colab.kernel.invokeFunction('convertToInteractive',\n",
              "                                                     [key], {});\n",
              "          if (!dataTable) return;\n",
              "\n",
              "          const docLinkHtml = 'Like what you see? Visit the ' +\n",
              "            '<a target=\"_blank\" href=https://colab.research.google.com/notebooks/data_table.ipynb>data table notebook</a>'\n",
              "            + ' to learn more about interactive tables.';\n",
              "          element.innerHTML = '';\n",
              "          dataTable['output_type'] = 'display_data';\n",
              "          await google.colab.output.renderOutput(dataTable, element);\n",
              "          const docLink = document.createElement('div');\n",
              "          docLink.innerHTML = docLinkHtml;\n",
              "          element.appendChild(docLink);\n",
              "        }\n",
              "      </script>\n",
              "    </div>\n",
              "  </div>\n",
              "  "
            ]
          },
          "metadata": {},
          "execution_count": 16
        }
      ]
    },
    {
      "cell_type": "code",
      "source": [
        "# encoding the target column\n",
        "\n",
        "le = LabelEncoder()\n",
        "twitter['Sentiment'] = le.fit_transform(twitter['Sentiment'])"
      ],
      "metadata": {
        "id": "57JyhcLRIdwb"
      },
      "execution_count": 17,
      "outputs": []
    },
    {
      "cell_type": "code",
      "source": [
        "le.classes_"
      ],
      "metadata": {
        "colab": {
          "base_uri": "https://localhost:8080/"
        },
        "id": "HKeDRqhKKOH2",
        "outputId": "ed8e4efc-2a08-46f3-9498-30766781fad3"
      },
      "execution_count": 18,
      "outputs": [
        {
          "output_type": "execute_result",
          "data": {
            "text/plain": [
              "array(['Irrelevant', 'Negative', 'Neutral', 'Positive'], dtype=object)"
            ]
          },
          "metadata": {},
          "execution_count": 18
        }
      ]
    },
    {
      "cell_type": "code",
      "source": [
        "# generating feature using BAG OF WORDS\n",
        "\n",
        "cv = CountVectorizer(ngram_range = (1,1))\n",
        "num_of_text = cv.fit_transform(twitter['final_text'])"
      ],
      "metadata": {
        "id": "yeK2TzBOKRp2"
      },
      "execution_count": 19,
      "outputs": []
    },
    {
      "cell_type": "code",
      "source": [
        "twitter.info()"
      ],
      "metadata": {
        "colab": {
          "base_uri": "https://localhost:8080/"
        },
        "id": "VgHYVf4PLI8d",
        "outputId": "149050e5-8b2d-4b70-bd85-c88c639b8d72"
      },
      "execution_count": 20,
      "outputs": [
        {
          "output_type": "stream",
          "name": "stdout",
          "text": [
            "<class 'pandas.core.frame.DataFrame'>\n",
            "RangeIndex: 72437 entries, 0 to 72436\n",
            "Data columns (total 6 columns):\n",
            " #   Column      Non-Null Count  Dtype \n",
            "---  ------      --------------  ----- \n",
            " 0   index       72437 non-null  int64 \n",
            " 1   Id          72437 non-null  int64 \n",
            " 2   Brand       72437 non-null  object\n",
            " 3   Sentiment   72437 non-null  int64 \n",
            " 4   tweets      72437 non-null  object\n",
            " 5   final_text  72437 non-null  object\n",
            "dtypes: int64(3), object(3)\n",
            "memory usage: 3.3+ MB\n"
          ]
        }
      ]
    },
    {
      "cell_type": "code",
      "source": [
        "#splitting in training and testing data without performing Tf-Idf\n",
        "from sklearn.model_selection import train_test_split\n",
        "\n",
        "X_train, X_test, y_train, y_test = train_test_split(num_of_text, twitter['Sentiment'], test_size = 0.2, random_state=0)"
      ],
      "metadata": {
        "id": "k9FPDVjAYcM9"
      },
      "execution_count": 21,
      "outputs": []
    },
    {
      "cell_type": "code",
      "source": [
        "#model Building Decision Tree\n",
        "\n",
        "classifier = DecisionTreeClassifier(random_state=42)\n",
        "classifier.fit(X_train, y_train)"
      ],
      "metadata": {
        "colab": {
          "base_uri": "https://localhost:8080/"
        },
        "id": "_pZ2I9MzZGdY",
        "outputId": "32e14a3d-7183-4cae-b824-0258c08daf5b"
      },
      "execution_count": 22,
      "outputs": [
        {
          "output_type": "execute_result",
          "data": {
            "text/plain": [
              "DecisionTreeClassifier(random_state=42)"
            ]
          },
          "metadata": {},
          "execution_count": 22
        }
      ]
    },
    {
      "cell_type": "code",
      "source": [
        "#predictions \n",
        "pred = classifier.predict(X_test)"
      ],
      "metadata": {
        "id": "KTFAsGbAZRUo"
      },
      "execution_count": 23,
      "outputs": []
    },
    {
      "cell_type": "code",
      "source": [
        "print(classification_report(y_test, pred))\n",
        "print(\"\\n\\nAccuracy Score with RandomForestClassifier: \",accuracy_score(y_test, pred))"
      ],
      "metadata": {
        "colab": {
          "base_uri": "https://localhost:8080/"
        },
        "id": "Uquhq_unbFqw",
        "outputId": "fcb258e8-72a2-4e96-dbec-2721364eda83"
      },
      "execution_count": 24,
      "outputs": [
        {
          "output_type": "stream",
          "name": "stdout",
          "text": [
            "              precision    recall  f1-score   support\n",
            "\n",
            "           0       0.83      0.76      0.79      2492\n",
            "           1       0.85      0.85      0.85      4430\n",
            "           2       0.83      0.81      0.82      3560\n",
            "           3       0.79      0.85      0.82      4006\n",
            "\n",
            "    accuracy                           0.83     14488\n",
            "   macro avg       0.83      0.82      0.82     14488\n",
            "weighted avg       0.83      0.83      0.83     14488\n",
            "\n",
            "\n",
            "\n",
            "Accuracy Score with RandomForestClassifier:  0.8257178354500276\n"
          ]
        }
      ]
    },
    {
      "cell_type": "code",
      "source": [
        "#tf-idf \n",
        "from sklearn.feature_extraction.text import TfidfVectorizer\n",
        "tf=TfidfVectorizer()\n",
        "text_tf = tf.fit_transform(twitter['final_text'])"
      ],
      "metadata": {
        "id": "tWsWafHwIk1O"
      },
      "execution_count": 25,
      "outputs": []
    },
    {
      "cell_type": "code",
      "source": [
        "Xtrain, Xtest, ytrain, ytest = train_test_split(text_tf, twitter['Sentiment'], test_size = 0.2, random_state=0)"
      ],
      "metadata": {
        "id": "nlALfl5YI-4-"
      },
      "execution_count": 26,
      "outputs": []
    },
    {
      "cell_type": "code",
      "source": [
        "#model Building Random Forest\n",
        "\n",
        "classifier1 = RandomForestClassifier(n_estimators=200)\n",
        "classifier1.fit(Xtrain, ytrain)\n",
        "\n",
        "#predictions \n",
        "pred1 = classifier1.predict(X_test)\n",
        "\n",
        "print(classification_report(y_test, pred1))\n",
        "\n",
        "print(\"\\n\\nAccuracy Score with RandomForestClassifier: \",accuracy_score(y_test, pred1))"
      ],
      "metadata": {
        "id": "mNi3FddKbR1D",
        "colab": {
          "base_uri": "https://localhost:8080/"
        },
        "outputId": "5c4f0276-a1a7-4b1e-f19e-9472522362b4"
      },
      "execution_count": 27,
      "outputs": [
        {
          "output_type": "stream",
          "name": "stdout",
          "text": [
            "              precision    recall  f1-score   support\n",
            "\n",
            "           0       0.93      0.68      0.78      2492\n",
            "           1       0.83      0.90      0.86      4430\n",
            "           2       0.89      0.71      0.79      3560\n",
            "           3       0.73      0.91      0.81      4006\n",
            "\n",
            "    accuracy                           0.82     14488\n",
            "   macro avg       0.84      0.80      0.81     14488\n",
            "weighted avg       0.83      0.82      0.82     14488\n",
            "\n",
            "\n",
            "\n",
            "Accuracy Score with RandomForestClassifier:  0.8190916620651574\n"
          ]
        }
      ]
    },
    {
      "cell_type": "code",
      "source": [
        "#model Building GradientBoosting Classifier\n",
        "\n",
        "from sklearn.ensemble import GradientBoostingClassifier\n",
        "\n",
        "GB_classifier = GradientBoostingClassifier(n_estimators=50, learning_rate= 0.1)\n",
        "GB_classifier.fit(Xtrain, ytrain)\n",
        "\n",
        "#predictions \n",
        "pred2 = GB_classifier.predict(X_test)\n",
        "\n",
        "print(classification_report(y_test, pred2))\n",
        "\n",
        "print(\"\\n\\nAccuracy Score with RandomForestClassifier: \",accuracy_score(y_test, pred1))"
      ],
      "metadata": {
        "colab": {
          "base_uri": "https://localhost:8080/"
        },
        "id": "HcWv4lH1TCLv",
        "outputId": "e504fd18-9656-4974-cb54-3d11dfc1b0f7"
      },
      "execution_count": 28,
      "outputs": [
        {
          "output_type": "stream",
          "name": "stdout",
          "text": [
            "              precision    recall  f1-score   support\n",
            "\n",
            "           0       0.57      0.13      0.21      2492\n",
            "           1       0.43      0.77      0.55      4430\n",
            "           2       0.56      0.28      0.38      3560\n",
            "           3       0.52      0.54      0.53      4006\n",
            "\n",
            "    accuracy                           0.48     14488\n",
            "   macro avg       0.52      0.43      0.42     14488\n",
            "weighted avg       0.51      0.48      0.44     14488\n",
            "\n",
            "\n",
            "\n",
            "Accuracy Score with RandomForestClassifier:  0.8190916620651574\n"
          ]
        }
      ]
    }
  ]
}