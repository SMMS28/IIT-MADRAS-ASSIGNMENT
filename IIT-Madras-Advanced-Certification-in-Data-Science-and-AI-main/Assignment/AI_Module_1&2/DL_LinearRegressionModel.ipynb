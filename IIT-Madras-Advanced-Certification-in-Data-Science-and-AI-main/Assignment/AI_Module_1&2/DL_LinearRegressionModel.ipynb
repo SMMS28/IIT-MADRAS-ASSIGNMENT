{
  "nbformat": 4,
  "nbformat_minor": 0,
  "metadata": {
    "colab": {
      "provenance": []
    },
    "kernelspec": {
      "name": "python3",
      "display_name": "Python 3"
    },
    "language_info": {
      "name": "python"
    }
  },
  "cells": [
    {
      "cell_type": "code",
      "source": [
        "# 3. A particular linear process has an input (x=5) and output (y=10) \n",
        "\n",
        "#     a. Create a model using numpy to solve for “y” and record your best error. \n",
        "\n",
        "#     b. Repeat the above experiment with different hyper parameters like Learning Rate & activation function. \n",
        "\n",
        "#     c. Record the various hyperparameters used in experiment and submit the table with data (x | y | y_pred | error (RMSE) | LR | activation used). "
      ],
      "metadata": {
        "id": "CBZVFzIjSjZr"
      },
      "execution_count": null,
      "outputs": []
    },
    {
      "cell_type": "code",
      "execution_count": null,
      "metadata": {
        "id": "o08kS5vjFtxB"
      },
      "outputs": [],
      "source": [
        "import tensorflow as tf\n",
        "import numpy as np\n",
        "from matplotlib import pyplot as plt\n",
        "import pandas as pd\n",
        "\n",
        "from tensorflow.python.framework.ops import disable_eager_execution\n",
        "\n",
        "disable_eager_execution()"
      ]
    },
    {
      "cell_type": "markdown",
      "source": [
        "# a. Create a model using numpy to solve for “y” and record your best error."
      ],
      "metadata": {
        "id": "4HkhdwmfUW5Q"
      }
    },
    {
      "cell_type": "code",
      "source": [
        "# Training data\n",
        "\n",
        "train_X = np.asarray([3.3,4.4,5.5,6.71,6.93,4.168,9.779,6.182,7.59,2.167,\n",
        "                         7.042,10.791,5.313,7.997,5.654,9.27,3.1])\n",
        "\n",
        "train_y = np.asarray([1.7,2.76,2.09,3.19,1.694,1.573,3.366,2.596,2.53,1.221,\n",
        "                         2.827,3.465,1.65,2.904,2.42,2.94,1.3])\n",
        "\n",
        "n_samples = train_X.shape[0]\n",
        "# print(n_samples)"
      ],
      "metadata": {
        "id": "Gsa7yoRmGJ7A"
      },
      "execution_count": null,
      "outputs": []
    },
    {
      "cell_type": "code",
      "source": [
        "# Test Data\n",
        "\n",
        "test_X = np.asarray([6.83, 4.668, 8.9, 7.91, 5.7, 8.7, 3.1, 2.1])\n",
        "test_y = np.asarray([1.84, 2.273, 3.2, 2.831, 2.92, 3.24, 1.35, 1.03])"
      ],
      "metadata": {
        "id": "9BT_ulJDGOlr"
      },
      "execution_count": null,
      "outputs": []
    },
    {
      "cell_type": "code",
      "source": [
        "# Set placeholders for feature and target vectors\n",
        "X = tf.compat.v1.placeholder(tf.float32)\n",
        "y = tf.compat.v1.placeholder(tf.float32)"
      ],
      "metadata": {
        "id": "8zYCB3Q8SLeM"
      },
      "execution_count": null,
      "outputs": []
    },
    {
      "cell_type": "code",
      "source": [
        "# Set model weights and bias\n",
        "W = tf.Variable(np.random.randn(), name=\"weight\")\n",
        "b = tf.Variable(np.random.randn(), name=\"bias\")"
      ],
      "metadata": {
        "id": "ixTO3iK3SN3w"
      },
      "execution_count": null,
      "outputs": []
    },
    {
      "cell_type": "code",
      "source": [
        "# Construct a linear model (y)\n",
        "linear_model = (W*X + b)"
      ],
      "metadata": {
        "id": "flrtrC5kSP7h"
      },
      "execution_count": null,
      "outputs": []
    },
    {
      "cell_type": "markdown",
      "source": [
        "# b. Repeat the above experiment with different hyper parameters like Learning Rate & activation function."
      ],
      "metadata": {
        "id": "_xsmUay8UbZ2"
      }
    },
    {
      "cell_type": "code",
      "source": [
        "# Model Parameters\n",
        "\n",
        "learning_rate = 0.01\n",
        "training_epochs = 2000\n",
        "display_step = 200"
      ],
      "metadata": {
        "id": "Tpf5YkuPUaEr"
      },
      "execution_count": null,
      "outputs": []
    },
    {
      "cell_type": "code",
      "source": [
        "# Mean squared error\n",
        "cost = tf.reduce_sum(tf.square(linear_model - y)) / (2*n_samples)\n",
        " \n",
        "# Gradient descent\n",
        "optimizer = tf.compat.v1.train.GradientDescentOptimizer(learning_rate).minimize(cost)\n",
        " \n",
        "# Initializing the variables\n",
        "init = tf.compat.v1.global_variables_initializer()"
      ],
      "metadata": {
        "id": "eLlBoZnSSSXj"
      },
      "execution_count": null,
      "outputs": []
    },
    {
      "cell_type": "code",
      "source": [
        "# Launch the graph\n",
        "with tf.compat.v1.Session() as sess:\n",
        "    # Load initialized variables in current session\n",
        "    sess.run(init)\n",
        " \n",
        "    # Fitting all training data\n",
        "    for epoch in range(training_epochs):\n",
        " \n",
        "        # perform gradient descent step\n",
        "        sess.run(optimizer, feed_dict={X: train_X, y: train_y})\n",
        "         \n",
        "        # Display logs per epoch step\n",
        "        if (epoch+1) % display_step == 0:\n",
        "            c = sess.run(cost, feed_dict={X: train_X, y: train_y})\n",
        "            print(\"Epoch:{0:6} \\t Cost:{1:10.4} \\t W:{2:6.4} \\t b:{3:6.4}\".\n",
        "                  format(epoch+1, c, sess.run(W), sess.run(b)))\n",
        "             \n",
        "    # Print final parameter values\n",
        "    print(\"Optimization Finished!\")\n",
        "    training_cost = sess.run(cost, feed_dict={X: train_X, y: train_y})\n",
        "    print(\"Final training cost:\", training_cost, \"W:\", sess.run(W), \"b:\",\n",
        "          sess.run(b), '\\n')\n",
        "    \n",
        "    # Graphic display\n",
        "    plt.plot(train_X, train_y, 'ro', label='Original data')\n",
        "    plt.plot(train_X, sess.run(W) * train_X + sess.run(b), label='Fitted line')\n",
        "    plt.legend()\n",
        "    plt.show()\n",
        "\n",
        "    # Testing the model\n",
        "    testing_cost = sess.run(tf.reduce_sum(tf.square(linear_model - y)) / (2 * test_X.shape[0]),\n",
        "                            feed_dict={X: test_X, y: test_y})\n",
        "     \n",
        "    print(\"Final testing cost:\", testing_cost)\n",
        "    print(\"Absolute mean square loss difference:\", abs(training_cost - testing_cost))\n",
        " \n",
        "    # Display fitted line on test data\n",
        "    plt.plot(test_X, test_y, 'bo', label='Testing data')\n",
        "    plt.plot(train_X, sess.run(W) * train_X + sess.run(b), label='Fitted line')\n",
        "    plt.legend()\n",
        "    plt.show()    "
      ],
      "metadata": {
        "colab": {
          "base_uri": "https://localhost:8080/",
          "height": 773
        },
        "id": "9DfrJgs7UrEB",
        "outputId": "fe385eb1-59e1-4f36-8132-8dc71704136a"
      },
      "execution_count": null,
      "outputs": [
        {
          "output_type": "stream",
          "name": "stdout",
          "text": [
            "Epoch:   200 \t Cost:   0.08518 \t W:0.3031 \t b:0.4337\n",
            "Epoch:   400 \t Cost:   0.08201 \t W: 0.292 \t b:0.5124\n",
            "Epoch:   600 \t Cost:   0.08005 \t W:0.2833 \t b:0.5742\n",
            "Epoch:   800 \t Cost:   0.07885 \t W:0.2765 \t b:0.6226\n",
            "Epoch:  1000 \t Cost:   0.07811 \t W:0.2711 \t b:0.6606\n",
            "Epoch:  1200 \t Cost:   0.07766 \t W:0.2669 \t b:0.6904\n",
            "Epoch:  1400 \t Cost:   0.07738 \t W:0.2636 \t b:0.7138\n",
            "Epoch:  1600 \t Cost:    0.0772 \t W: 0.261 \t b:0.7321\n",
            "Epoch:  1800 \t Cost:    0.0771 \t W: 0.259 \t b:0.7465\n",
            "Epoch:  2000 \t Cost:   0.07703 \t W:0.2574 \t b:0.7578\n",
            "Optimization Finished!\n",
            "Final training cost: 0.07703299 W: 0.2574209 b: 0.7577814 \n",
            "\n"
          ]
        },
        {
          "output_type": "display_data",
          "data": {
            "text/plain": [
              "<Figure size 432x288 with 1 Axes>"
            ],
            "image/png": "[encoded data removed]"
          },
          "metadata": {
            "needs_background": "light"
          }
        },
        {
          "output_type": "stream",
          "name": "stdout",
          "text": [
            "Final testing cost: 0.077228\n",
            "Absolute mean square loss difference: 0.0001950115\n"
          ]
        },
        {
          "output_type": "display_data",
          "data": {
            "text/plain": [
              "<Figure size 432x288 with 1 Axes>"
            ],
            "image/png": "[encoded data removed]"
          },
          "metadata": {
            "needs_background": "light"
          }
        }
      ]
    },
    {
      "cell_type": "markdown",
      "source": [
        "# Model Building"
      ],
      "metadata": {
        "id": "RfziMHdBZuqU"
      }
    },
    {
      "cell_type": "code",
      "source": [
        "from tensorflow.keras.models import Sequential\n",
        "from tensorflow.keras.layers import Input, Dense\n",
        "from tensorflow.keras.optimizers import Adam"
      ],
      "metadata": {
        "id": "pSKCaNMYZx1l"
      },
      "execution_count": null,
      "outputs": []
    },
    {
      "cell_type": "code",
      "source": [
        "train_Xx = train_X.reshape(-1,1)\n",
        "test_Xx = test_X.reshape(-1,1)"
      ],
      "metadata": {
        "id": "xQgVuosGZ1fH"
      },
      "execution_count": null,
      "outputs": []
    },
    {
      "cell_type": "code",
      "source": [
        "[train_Xx.shape, train_y.shape, test_Xx.shape, test_y.shape]"
      ],
      "metadata": {
        "colab": {
          "base_uri": "https://localhost:8080/"
        },
        "id": "wIeIc-EYe7F0",
        "outputId": "b0add25e-509e-45e4-d522-3036382ed5eb"
      },
      "execution_count": null,
      "outputs": [
        {
          "output_type": "execute_result",
          "data": {
            "text/plain": [
              "[(17, 1), (17,), (8, 1), (8,)]"
            ]
          },
          "metadata": {},
          "execution_count": 13
        }
      ]
    },
    {
      "cell_type": "code",
      "source": [
        "# Defining the architecture of the model\n",
        "model = Sequential()\n",
        "model.add(Dense(units = 1))\n",
        "model.add(Dense(1, activation = 'linear'))"
      ],
      "metadata": {
        "id": "JwOQ0CF9fV7R"
      },
      "execution_count": null,
      "outputs": []
    },
    {
      "cell_type": "code",
      "source": [
        "#Model Compilation\n",
        "model.compile(optimizer = 'adam', loss = 'mean_squared_error', metrics = ['accuracy'])"
      ],
      "metadata": {
        "id": "wRAmO-yBgEEv"
      },
      "execution_count": null,
      "outputs": []
    },
    {
      "cell_type": "code",
      "source": [
        "#Model Fit\n",
        "model.fit(x=train_Xx, y=train_y, epochs = 600, validation_data = (test_Xx, test_y))"
      ],
      "metadata": {
        "id": "Omqm2zhIgGC3"
      },
      "execution_count": null,
      "outputs": []
    },
    {
      "cell_type": "code",
      "source": [
        "model.summary()"
      ],
      "metadata": {
        "colab": {
          "base_uri": "https://localhost:8080/"
        },
        "id": "DCfQqH9TiGrV",
        "outputId": "6add13cc-04e8-47b1-e955-efe56d6a98bc"
      },
      "execution_count": null,
      "outputs": [
        {
          "output_type": "stream",
          "name": "stdout",
          "text": [
            "Model: \"sequential_2\"\n",
            "_________________________________________________________________\n",
            " Layer (type)                Output Shape              Param #   \n",
            "=================================================================\n",
            " dense_4 (Dense)             multiple                  2         \n",
            "                                                                 \n",
            " dense_5 (Dense)             multiple                  2         \n",
            "                                                                 \n",
            "=================================================================\n",
            "Total params: 4\n",
            "Trainable params: 4\n",
            "Non-trainable params: 0\n",
            "_________________________________________________________________\n"
          ]
        }
      ]
    },
    {
      "cell_type": "code",
      "source": [
        "y_pred = model.predict(test_Xx)"
      ],
      "metadata": {
        "colab": {
          "base_uri": "https://localhost:8080/"
        },
        "id": "iICO94bNl3Ra",
        "outputId": "6c248997-43ad-4c56-f76e-e12f1d3dd4ad"
      },
      "execution_count": null,
      "outputs": [
        {
          "output_type": "stream",
          "name": "stderr",
          "text": [
            "/usr/local/lib/python3.8/dist-packages/keras/engine/training_v1.py:2067: UserWarning: `Model.state_updates` will be removed in a future version. This property should not be used in TensorFlow 2.0, as `updates` are applied automatically.\n",
            "  updates=self.state_updates,\n"
          ]
        }
      ]
    },
    {
      "cell_type": "markdown",
      "source": [
        "# c. Record the various hyperparameters used in experiment and submit the table with data (x | y | y_pred | error (RMSE) | LR | activation used). "
      ],
      "metadata": {
        "id": "maCPg_6iXM7u"
      }
    },
    {
      "cell_type": "code",
      "source": [
        "from sklearn.metrics import mean_squared_error\n",
        "RMSE = mean_squared_error(test_y, y_pred, squared=False)\n",
        "\n",
        "report = pd.DataFrame()\n",
        "\n",
        "report['Test_Value'] = test_X\n",
        "report['Real_output'] = test_y\n",
        "report['Predicted_output'] = y_pred\n",
        "report['error'] = RMSE\n",
        "report['LR'] = 0.001\n",
        "report['activation_function'] = 'linear'\n",
        "\n",
        "report"
      ],
      "metadata": {
        "colab": {
          "base_uri": "https://localhost:8080/",
          "height": 300
        },
        "id": "KHqZyE5ElvMq",
        "outputId": "12a6cbe7-61d0-4997-8350-630449165e83"
      },
      "execution_count": null,
      "outputs": [
        {
          "output_type": "execute_result",
          "data": {
            "text/plain": [
              "   Test_Value  Real_output  Predicted_output     error     LR  \\\n",
              "0       6.830        1.840          2.293789  0.530644  0.001   \n",
              "1       4.668        2.273          1.954480  0.530644  0.001   \n",
              "2       8.900        3.200          2.618659  0.530644  0.001   \n",
              "3       7.910        2.831          2.463287  0.530644  0.001   \n",
              "4       5.700        2.920          2.116444  0.530644  0.001   \n",
              "5       8.700        3.240          2.587271  0.530644  0.001   \n",
              "6       3.100        1.350          1.708394  0.530644  0.001   \n",
              "7       2.100        1.030          1.551452  0.530644  0.001   \n",
              "\n",
              "  activation_function  \n",
              "0              linear  \n",
              "1              linear  \n",
              "2              linear  \n",
              "3              linear  \n",
              "4              linear  \n",
              "5              linear  \n",
              "6              linear  \n",
              "7              linear  "
            ],
            "text/html": [
              "\n",
              "  <div id=\"df-6d08efe4-06e4-4532-a154-8bdc75b8d100\">\n",
              "    <div class=\"colab-df-container\">\n",
              "      <div>\n",
              "<style scoped>\n",
              "    .dataframe tbody tr th:only-of-type {\n",
              "        vertical-align: middle;\n",
              "    }\n",
              "\n",
              "    .dataframe tbody tr th {\n",
              "        vertical-align: top;\n",
              "    }\n",
              "\n",
              "    .dataframe thead th {\n",
              "        text-align: right;\n",
              "    }\n",
              "</style>\n",
              "<table border=\"1\" class=\"dataframe\">\n",
              "  <thead>\n",
              "    <tr style=\"text-align: right;\">\n",
              "      <th></th>\n",
              "      <th>Test_Value</th>\n",
              "      <th>Real_output</th>\n",
              "      <th>Predicted_output</th>\n",
              "      <th>error</th>\n",
              "      <th>LR</th>\n",
              "      <th>activation_function</th>\n",
              "    </tr>\n",
              "  </thead>\n",
              "  <tbody>\n",
              "    <tr>\n",
              "      <th>0</th>\n",
              "      <td>6.830</td>\n",
              "      <td>1.840</td>\n",
              "      <td>2.293789</td>\n",
              "      <td>0.530644</td>\n",
              "      <td>0.001</td>\n",
              "      <td>linear</td>\n",
              "    </tr>\n",
              "    <tr>\n",
              "      <th>1</th>\n",
              "      <td>4.668</td>\n",
              "      <td>2.273</td>\n",
              "      <td>1.954480</td>\n",
              "      <td>0.530644</td>\n",
              "      <td>0.001</td>\n",
              "      <td>linear</td>\n",
              "    </tr>\n",
              "    <tr>\n",
              "      <th>2</th>\n",
              "      <td>8.900</td>\n",
              "      <td>3.200</td>\n",
              "      <td>2.618659</td>\n",
              "      <td>0.530644</td>\n",
              "      <td>0.001</td>\n",
              "      <td>linear</td>\n",
              "    </tr>\n",
              "    <tr>\n",
              "      <th>3</th>\n",
              "      <td>7.910</td>\n",
              "      <td>2.831</td>\n",
              "      <td>2.463287</td>\n",
              "      <td>0.530644</td>\n",
              "      <td>0.001</td>\n",
              "      <td>linear</td>\n",
              "    </tr>\n",
              "    <tr>\n",
              "      <th>4</th>\n",
              "      <td>5.700</td>\n",
              "      <td>2.920</td>\n",
              "      <td>2.116444</td>\n",
              "      <td>0.530644</td>\n",
              "      <td>0.001</td>\n",
              "      <td>linear</td>\n",
              "    </tr>\n",
              "    <tr>\n",
              "      <th>5</th>\n",
              "      <td>8.700</td>\n",
              "      <td>3.240</td>\n",
              "      <td>2.587271</td>\n",
              "      <td>0.530644</td>\n",
              "      <td>0.001</td>\n",
              "      <td>linear</td>\n",
              "    </tr>\n",
              "    <tr>\n",
              "      <th>6</th>\n",
              "      <td>3.100</td>\n",
              "      <td>1.350</td>\n",
              "      <td>1.708394</td>\n",
              "      <td>0.530644</td>\n",
              "      <td>0.001</td>\n",
              "      <td>linear</td>\n",
              "    </tr>\n",
              "    <tr>\n",
              "      <th>7</th>\n",
              "      <td>2.100</td>\n",
              "      <td>1.030</td>\n",
              "      <td>1.551452</td>\n",
              "      <td>0.530644</td>\n",
              "      <td>0.001</td>\n",
              "      <td>linear</td>\n",
              "    </tr>\n",
              "  </tbody>\n",
              "</table>\n",
              "</div>\n",
              "      <button class=\"colab-df-convert\" onclick=\"convertToInteractive('df-6d08efe4-06e4-4532-a154-8bdc75b8d100')\"\n",
              "              title=\"Convert this dataframe to an interactive table.\"\n",
              "              style=\"display:none;\">\n",
              "        \n",
              "  <svg xmlns=\"http://www.w3.org/2000/svg\" height=\"24px\"viewBox=\"0 0 24 24\"\n",
              "       width=\"24px\">\n",
              "    <path d=\"M0 0h24v24H0V0z\" fill=\"none\"/>\n",
              "    <path d=\"M18.56 5.44l.94 2.06.94-2.06 2.06-.94-2.06-.94-.94-2.06-.94 2.06-2.06.94zm-11 1L8.5 8.5l.94-2.06 2.06-.94-2.06-.94L8.5 2.5l-.94 2.06-2.06.94zm10 10l.94 2.06.94-2.06 2.06-.94-2.06-.94-.94-2.06-.94 2.06-2.06.94z\"/><path d=\"M17.41 7.96l-1.37-1.37c-.4-.4-.92-.59-1.43-.59-.52 0-1.04.2-1.43.59L10.3 9.45l-7.72 7.72c-.78.78-.78 2.05 0 2.83L4 21.41c.39.39.9.59 1.41.59.51 0 1.02-.2 1.41-.59l7.78-7.78 2.81-2.81c.8-.78.8-2.07 0-2.86zM5.41 20L4 18.59l7.72-7.72 1.47 1.35L5.41 20z\"/>\n",
              "  </svg>\n",
              "      </button>\n",
              "      \n",
              "  <style>\n",
              "    .colab-df-container {\n",
              "      display:flex;\n",
              "      flex-wrap:wrap;\n",
              "      gap: 12px;\n",
              "    }\n",
              "\n",
              "    .colab-df-convert {\n",
              "      background-color: #E8F0FE;\n",
              "      border: none;\n",
              "      border-radius: 50%;\n",
              "      cursor: pointer;\n",
              "      display: none;\n",
              "      fill: #1967D2;\n",
              "      height: 32px;\n",
              "      padding: 0 0 0 0;\n",
              "      width: 32px;\n",
              "    }\n",
              "\n",
              "    .colab-df-convert:hover {\n",
              "      background-color: #E2EBFA;\n",
              "      box-shadow: 0px 1px 2px rgba(60, 64, 67, 0.3), 0px 1px 3px 1px rgba(60, 64, 67, 0.15);\n",
              "      fill: #174EA6;\n",
              "    }\n",
              "\n",
              "    [theme=dark] .colab-df-convert {\n",
              "      background-color: #3B4455;\n",
              "      fill: #D2E3FC;\n",
              "    }\n",
              "\n",
              "    [theme=dark] .colab-df-convert:hover {\n",
              "      background-color: #434B5C;\n",
              "      box-shadow: 0px 1px 3px 1px rgba(0, 0, 0, 0.15);\n",
              "      filter: drop-shadow(0px 1px 2px rgba(0, 0, 0, 0.3));\n",
              "      fill: #FFFFFF;\n",
              "    }\n",
              "  </style>\n",
              "\n",
              "      <script>\n",
              "        const buttonEl =\n",
              "          document.querySelector('#df-6d08efe4-06e4-4532-a154-8bdc75b8d100 button.colab-df-convert');\n",
              "        buttonEl.style.display =\n",
              "          google.colab.kernel.accessAllowed ? 'block' : 'none';\n",
              "\n",
              "        async function convertToInteractive(key) {\n",
              "          const element = document.querySelector('#df-6d08efe4-06e4-4532-a154-8bdc75b8d100');\n",
              "          const dataTable =\n",
              "            await google.colab.kernel.invokeFunction('convertToInteractive',\n",
              "                                                     [key], {});\n",
              "          if (!dataTable) return;\n",
              "\n",
              "          const docLinkHtml = 'Like what you see? Visit the ' +\n",
              "            '<a target=\"_blank\" href=https://colab.research.google.com/notebooks/data_table.ipynb>data table notebook</a>'\n",
              "            + ' to learn more about interactive tables.';\n",
              "          element.innerHTML = '';\n",
              "          dataTable['output_type'] = 'display_data';\n",
              "          await google.colab.output.renderOutput(dataTable, element);\n",
              "          const docLink = document.createElement('div');\n",
              "          docLink.innerHTML = docLinkHtml;\n",
              "          element.appendChild(docLink);\n",
              "        }\n",
              "      </script>\n",
              "    </div>\n",
              "  </div>\n",
              "  "
            ]
          },
          "metadata": {},
          "execution_count": 36
        }
      ]
    },
    {
      "cell_type": "code",
      "source": [
        "# input (x=5) and output (y=10) \n",
        "x, y = 5, 10\n",
        "x = np.array(x)\n",
        "y = np.array(y)\n",
        "Xx = x.reshape(-1,1)\n",
        "Yy = y.reshape(-1,1)\n",
        "\n",
        "y_pred1 = model.predict(Xx)\n",
        "err = mean_squared_error(Yy, y_pred1, squared=False)\n",
        "print(\"Input: \",x,\"\\nOriginal output: \",y ,\"\\nObtained_output: \", str(y_pred1),\"\\nMean squared error: \" ,err)"
      ],
      "metadata": {
        "colab": {
          "base_uri": "https://localhost:8080/"
        },
        "id": "o2ZHvljpsKQX",
        "outputId": "598bf416-c772-4bdb-ef7f-582b434d997b"
      },
      "execution_count": null,
      "outputs": [
        {
          "output_type": "stream",
          "name": "stdout",
          "text": [
            "Input:  5 \n",
            "Original output:  10 \n",
            "Obtained_output:  [[2.6710389]] \n",
            "Mean squared error:  7.328961133956909\n"
          ]
        }
      ]
    },
    {
      "cell_type": "code",
      "source": [],
      "metadata": {
        "id": "ezXRAr-_qVIJ"
      },
      "execution_count": null,
      "outputs": []
    }
  ]
}