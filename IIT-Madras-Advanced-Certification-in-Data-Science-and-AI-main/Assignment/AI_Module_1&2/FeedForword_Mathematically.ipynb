{
  "nbformat": 4,
  "nbformat_minor": 0,
  "metadata": {
    "colab": {
      "provenance": []
    },
    "kernelspec": {
      "name": "python3",
      "display_name": "Python 3"
    },
    "language_info": {
      "name": "python"
    }
  },
  "cells": [
    {
      "cell_type": "code",
      "execution_count": null,
      "metadata": {
        "id": "W0lq9kbWFwhg"
      },
      "outputs": [],
      "source": [
        "import numpy as np\n",
        "import matplotlib.pyplot as plt\n",
        "x1 = [10, 8, 15]\n",
        "x2 = [8, 20 , 25]\n",
        "y = [30, 15, 20]\n",
        "\n",
        "# Estimate best values of w1, w2, b"
      ]
    },
    {
      "cell_type": "code",
      "source": [
        "def forward_pass(w1, w2, b):\n",
        "    y_pred = []\n",
        "    total_error = 0\n",
        "    for i in range(n):\n",
        "        y_hat = w1 * x1[i] + w2 * x2[i] + b\n",
        "        y_pred.append(y_hat)\n",
        "\n",
        "        E = (y[i]-y_hat)**2\n",
        "        total_error += E\n",
        "    return y_pred, total_error\n",
        "\n",
        "def weight_update(w1, w2, b, y_pred):\n",
        "    for i in range(n):\n",
        "        # alpha = 0.01\n",
        "        dJ_dw1 = -2*(y[i]-y_pred[i])*x1[i] \n",
        "        dJ_dw2 = -2*(y[i]-y_pred[i])*x2[i] \n",
        "        dJ_db = -2*(y[i]-y_pred[i])\n",
        "\n",
        "        w1 = w1 - alpha * dJ_dw1\n",
        "        w2 = w2 - alpha * dJ_dw2\n",
        "        b = b - alpha * dJ_db\n",
        "    return w1, w2, b\n",
        "\n",
        "#CONSTANTS\n",
        "iterations = 100\n",
        "n = len(x1)\n",
        "alpha = 0.0001\n",
        "\n",
        "#INIT of WEIGHTS\n",
        "random_init = np.random.randn(3)\n",
        "w1, w2, b = random_init[0], random_init[1], random_init[2]\n",
        "print(w1, w2, b)\n",
        "\n",
        "# MODEL\n",
        "error = []\n",
        "for iter_num in range(iterations):\n",
        "    y_pred, total_error = forward_pass(w1, w2, b)\n",
        "    print(f\"Epoch #: {iter_num} | MSE = {round(total_error,2)}\")\n",
        "    error.append(total_error)\n",
        "    w1, w2, b = weight_update(w1, w2, b, y_pred)\n",
        "\n",
        "print(\"Result:\",[w1, w2, b])"
      ],
      "metadata": {
        "colab": {
          "base_uri": "https://localhost:8080/"
        },
        "id": "fxyW5lq6F9u6",
        "outputId": "0c81b0bd-745d-471f-e757-8a2e87680786"
      },
      "execution_count": null,
      "outputs": [
        {
          "output_type": "stream",
          "name": "stdout",
          "text": [
            "-0.27904128228462466 0.26521819721651096 1.218518843806807\n",
            "Epoch #: 0 | MSE = 1248.89\n",
            "Epoch #: 1 | MSE = 861.51\n",
            "Epoch #: 2 | MSE = 663.84\n",
            "Epoch #: 3 | MSE = 561.87\n",
            "Epoch #: 4 | MSE = 508.19\n",
            "Epoch #: 5 | MSE = 478.9\n",
            "Epoch #: 6 | MSE = 461.92\n",
            "Epoch #: 7 | MSE = 451.19\n",
            "Epoch #: 8 | MSE = 443.64\n",
            "Epoch #: 9 | MSE = 437.71\n",
            "Epoch #: 10 | MSE = 432.63\n",
            "Epoch #: 11 | MSE = 428.0\n",
            "Epoch #: 12 | MSE = 423.63\n",
            "Epoch #: 13 | MSE = 419.41\n",
            "Epoch #: 14 | MSE = 415.3\n",
            "Epoch #: 15 | MSE = 411.26\n",
            "Epoch #: 16 | MSE = 407.29\n",
            "Epoch #: 17 | MSE = 403.37\n",
            "Epoch #: 18 | MSE = 399.5\n",
            "Epoch #: 19 | MSE = 395.69\n",
            "Epoch #: 20 | MSE = 391.92\n",
            "Epoch #: 21 | MSE = 388.2\n",
            "Epoch #: 22 | MSE = 384.53\n",
            "Epoch #: 23 | MSE = 380.9\n",
            "Epoch #: 24 | MSE = 377.32\n",
            "Epoch #: 25 | MSE = 373.78\n",
            "Epoch #: 26 | MSE = 370.29\n",
            "Epoch #: 27 | MSE = 366.84\n",
            "Epoch #: 28 | MSE = 363.43\n",
            "Epoch #: 29 | MSE = 360.07\n",
            "Epoch #: 30 | MSE = 356.75\n",
            "Epoch #: 31 | MSE = 353.47\n",
            "Epoch #: 32 | MSE = 350.24\n",
            "Epoch #: 33 | MSE = 347.04\n",
            "Epoch #: 34 | MSE = 343.88\n",
            "Epoch #: 35 | MSE = 340.76\n",
            "Epoch #: 36 | MSE = 337.69\n",
            "Epoch #: 37 | MSE = 334.65\n",
            "Epoch #: 38 | MSE = 331.64\n",
            "Epoch #: 39 | MSE = 328.68\n",
            "Epoch #: 40 | MSE = 325.75\n",
            "Epoch #: 41 | MSE = 322.86\n",
            "Epoch #: 42 | MSE = 320.01\n",
            "Epoch #: 43 | MSE = 317.19\n",
            "Epoch #: 44 | MSE = 314.41\n",
            "Epoch #: 45 | MSE = 311.66\n",
            "Epoch #: 46 | MSE = 308.94\n",
            "Epoch #: 47 | MSE = 306.26\n",
            "Epoch #: 48 | MSE = 303.62\n",
            "Epoch #: 49 | MSE = 301.01\n",
            "Epoch #: 50 | MSE = 298.42\n",
            "Epoch #: 51 | MSE = 295.88\n",
            "Epoch #: 52 | MSE = 293.36\n",
            "Epoch #: 53 | MSE = 290.88\n",
            "Epoch #: 54 | MSE = 288.42\n",
            "Epoch #: 55 | MSE = 286.0\n",
            "Epoch #: 56 | MSE = 283.61\n",
            "Epoch #: 57 | MSE = 281.24\n",
            "Epoch #: 58 | MSE = 278.91\n",
            "Epoch #: 59 | MSE = 276.61\n",
            "Epoch #: 60 | MSE = 274.33\n",
            "Epoch #: 61 | MSE = 272.09\n",
            "Epoch #: 62 | MSE = 269.87\n",
            "Epoch #: 63 | MSE = 267.68\n",
            "Epoch #: 64 | MSE = 265.51\n",
            "Epoch #: 65 | MSE = 263.38\n",
            "Epoch #: 66 | MSE = 261.27\n",
            "Epoch #: 67 | MSE = 259.19\n",
            "Epoch #: 68 | MSE = 257.13\n",
            "Epoch #: 69 | MSE = 255.1\n",
            "Epoch #: 70 | MSE = 253.09\n",
            "Epoch #: 71 | MSE = 251.11\n",
            "Epoch #: 72 | MSE = 249.15\n",
            "Epoch #: 73 | MSE = 247.22\n",
            "Epoch #: 74 | MSE = 245.32\n",
            "Epoch #: 75 | MSE = 243.43\n",
            "Epoch #: 76 | MSE = 241.57\n",
            "Epoch #: 77 | MSE = 239.74\n",
            "Epoch #: 78 | MSE = 237.92\n",
            "Epoch #: 79 | MSE = 236.13\n",
            "Epoch #: 80 | MSE = 234.36\n",
            "Epoch #: 81 | MSE = 232.62\n",
            "Epoch #: 82 | MSE = 230.89\n",
            "Epoch #: 83 | MSE = 229.19\n",
            "Epoch #: 84 | MSE = 227.51\n",
            "Epoch #: 85 | MSE = 225.85\n",
            "Epoch #: 86 | MSE = 224.21\n",
            "Epoch #: 87 | MSE = 222.59\n",
            "Epoch #: 88 | MSE = 220.99\n",
            "Epoch #: 89 | MSE = 219.41\n",
            "Epoch #: 90 | MSE = 217.85\n",
            "Epoch #: 91 | MSE = 216.31\n",
            "Epoch #: 92 | MSE = 214.79\n",
            "Epoch #: 93 | MSE = 213.29\n",
            "Epoch #: 94 | MSE = 211.8\n",
            "Epoch #: 95 | MSE = 210.34\n",
            "Epoch #: 96 | MSE = 208.89\n",
            "Epoch #: 97 | MSE = 207.47\n",
            "Epoch #: 98 | MSE = 206.06\n",
            "Epoch #: 99 | MSE = 204.66\n",
            "Result: [1.484005094075075, 0.07410198536594823, 1.4340718031003583]\n"
          ]
        }
      ]
    },
    {
      "cell_type": "code",
      "source": [
        "plt.plot(error)\n",
        "plt.xlabel(\"EPOCH #\")\n",
        "plt.ylabel(\"MSE\")\n",
        "plt.grid()\n",
        "plt.show()"
      ],
      "metadata": {
        "colab": {
          "base_uri": "https://localhost:8080/",
          "height": 279
        },
        "id": "aD1NUOEOGGnb",
        "outputId": "6289611c-2755-4487-8882-c868769959a2"
      },
      "execution_count": null,
      "outputs": [
        {
          "output_type": "display_data",
          "data": {
            "text/plain": [
              "<Figure size 432x288 with 1 Axes>"
            ],
            "image/png": "[encoded data removed]"
          },
          "metadata": {
            "needs_background": "light"
          }
        }
      ]
    }
  ]
}