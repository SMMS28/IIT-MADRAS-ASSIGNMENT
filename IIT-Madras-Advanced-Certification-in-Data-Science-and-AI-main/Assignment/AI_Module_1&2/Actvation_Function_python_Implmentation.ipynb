{
  "nbformat": 4,
  "nbformat_minor": 0,
  "metadata": {
    "colab": {
      "provenance": []
    },
    "kernelspec": {
      "name": "python3",
      "display_name": "Python 3"
    },
    "language_info": {
      "name": "python"
    }
  },
  "cells": [
    {
      "cell_type": "code",
      "execution_count": 1,
      "metadata": {
        "id": "Xpqm85kzTWcn"
      },
      "outputs": [],
      "source": [
        "import numpy as np\n",
        "\n",
        "# Sigmoid Function\n",
        "def sigmoid(a):\n",
        "  return 1/(1 + np.exp(-a))\n",
        "\n",
        "# tanh Fuction\n",
        "def tanh(a):\n",
        "  t=(np.exp(a)-np.exp(-a))/(np.exp(a)+np.exp(-a))\n",
        "  dt=1-t**2\n",
        "  return t,dt\n",
        "\n",
        "# ReLU Function\n",
        "def relu(a):\n",
        "  data = [max(0,value) for value in a]\n",
        "  return np.array(data, dtype=float)\n",
        "\n",
        "# softmax Function\n",
        "def softmax(a):\n",
        " e = np.exp(a)\n",
        " return e / e.sum()"
      ]
    }
  ]
}