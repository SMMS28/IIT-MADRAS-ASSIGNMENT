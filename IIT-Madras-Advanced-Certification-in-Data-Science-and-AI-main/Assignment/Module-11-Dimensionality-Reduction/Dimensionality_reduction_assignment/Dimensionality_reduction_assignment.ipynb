{
 "cells": [
  {
   "cell_type": "markdown",
   "id": "cea28166",
   "metadata": {},
   "source": [
    "# Dimensionality Reduction Assignment"
   ]
  },
  {
   "cell_type": "markdown",
   "id": "e6407ada",
   "metadata": {},
   "source": [
    "Problem Statement:\n",
    "You work in XYZ Company as a Python. The company officials want you to write code for reducing the \n",
    "dimensions of a dataset\n",
    " \n",
    "Tasks to be performed:\n",
    " - Using load_digits function from sklearn import digits data\n",
    " - Take a look at the shape of image data\n",
    " - Import PCA, LDA and FactorAnalysis from Sklearn\n",
    " - Project data in 2 D space using the PCA, LDA and FactorAnalysis algorithm form sklearn\n",
    " - Take a look at the new data"
   ]
  },
  {
   "cell_type": "code",
   "execution_count": 1,
   "id": "e5140dd2",
   "metadata": {},
   "outputs": [],
   "source": [
    "import numpy as np\n",
    "import pandas as pd\n",
    "from sklearn.metrics import confusion_matrix\n",
    "from sklearn.metrics import accuracy_score\n",
    "from sklearn.model_selection import train_test_split\n",
    "from sklearn.preprocessing import StandardScaler\n",
    "from sklearn.ensemble import RandomForestClassifier\n",
    "from sklearn.decomposition import FactorAnalysis as FA\n",
    "from sklearn.discriminant_analysis import LinearDiscriminantAnalysis as LDA\n",
    "from sklearn.decomposition import PCA"
   ]
  },
  {
   "cell_type": "markdown",
   "id": "851b80db",
   "metadata": {},
   "source": [
    "# Loading MNIST hand-written dataset"
   ]
  },
  {
   "cell_type": "code",
   "execution_count": 2,
   "id": "8bde1906",
   "metadata": {},
   "outputs": [],
   "source": [
    "from sklearn.datasets import load_digits\n",
    "\n",
    "digits_data = load_digits()"
   ]
  },
  {
   "cell_type": "code",
   "execution_count": 13,
   "id": "ec824292",
   "metadata": {},
   "outputs": [],
   "source": [
    "import matplotlib.pyplot as plt\n",
    "\n",
    "# this function will be useful to plot & pass data with label for a single image-data at once\n",
    "def plot_img(img_data, img_label): \n",
    "    plt.figure(figsize=(4,4))\n",
    "    plt.subplot()\n",
    "    plt.imshow(np.reshape(img_data, (8,8)), cmap = 'gray')\n",
    "    plt.title(f\"Label {img_label}\", fontsize = 15)"
   ]
  },
  {
   "cell_type": "code",
   "execution_count": 14,
   "id": "2b504ca6",
   "metadata": {},
   "outputs": [
    {
     "data": {
      "image/png": "[encoded data removed]",
      "text/plain": [
       "<Figure size 400x400 with 1 Axes>"
      ]
     },
     "metadata": {},
     "output_type": "display_data"
    }
   ],
   "source": [
    "img_data, img_label = digits_data.data[0], digits_data.target[0]\n",
    "\n",
    "plot_img(img_data, img_label)"
   ]
  },
  {
   "cell_type": "markdown",
   "id": "d2fa3603",
   "metadata": {},
   "source": [
    "# Loading data into X & y variables"
   ]
  },
  {
   "cell_type": "code",
   "execution_count": 17,
   "id": "1ec20bc1",
   "metadata": {},
   "outputs": [],
   "source": [
    "X = pd.DataFrame(digits_data.data)\n",
    "y = digits_data.target"
   ]
  },
  {
   "cell_type": "code",
   "execution_count": 18,
   "id": "2f6308c8",
   "metadata": {},
   "outputs": [],
   "source": [
    "X_train, X_test, y_train, y_test = train_test_split(X, y, test_size=0.2, random_state=0)"
   ]
  },
  {
   "cell_type": "code",
   "execution_count": 40,
   "id": "846acc7b",
   "metadata": {},
   "outputs": [],
   "source": [
    "# Standard Scaler\n",
    "def scaling_data(Xtrain, Xtest):\n",
    "    sc = StandardScaler()\n",
    "    Xtrain_scaled, Xtest_scaled = sc.fit_transform(Xtrain), sc.transform(Xtest)\n",
    "    return Xtrain_scaled, Xtest_scaled\n",
    "\n",
    "#Factor Analysis\n",
    "def fit_FactorAnalysis(scaled_Xtrain, scaled_Xtest, ytrain, n=1):\n",
    "    fa = FA(n_components=n)\n",
    "    Xtrain_FA = fa.fit_transform(scaled_Xtrain, ytrain)\n",
    "    Xtest_FA = fa.transform(scaled_Xtest)\n",
    "    return Xtrain_FA, Xtest_FA\n",
    "\n",
    "# Linear Discriminant Analysis\n",
    "def fit_LDA(scaled_Xtrain, scaled_Xtest,ytrain, n=1):\n",
    "    lda = LDA(n_components = n)\n",
    "    Xtrain_LDA = lda.fit_transform(scaled_Xtrain,ytrain)\n",
    "    Xtest_LDA = lda.transform(scaled_Xtest)\n",
    "    return Xtrain_LDA, Xtest_LDA\n",
    "\n",
    "# Pricipal component Analysis\n",
    "def fit_PCA(scaled_Xtrain, scaled_Xtest, n=1):\n",
    "    pca = PCA(n_components=n)\n",
    "    Xtrain_PCA = pca.fit_transform(scaled_Xtrain)\n",
    "    Xtest_PCA = pca.transform(scaled_Xtest)\n",
    "    explained_variance = pca.explained_variance_ratio_\n",
    "    return Xtrain_PCA, Xtest_PCA, explained_variance\n",
    "\n",
    "# RandomForestClassifier\n",
    "def Random_Forest(Xtrain, Xtest, ytrain, ytest):\n",
    "    classifier = RandomForestClassifier(max_depth=2, random_state=0)\n",
    "    classifier.fit(Xtrain, ytrain)\n",
    "    y_pred = classifier.predict(Xtest)\n",
    "    confusion_mat = confusion_matrix(ytest, y_pred)\n",
    "    acc_score = accuracy_score(y_test, y_pred)\n",
    "    print(f\"Confusion Matrix: \\n{confusion_mat}\\n\")\n",
    "    print('Accuracy {0}\\n\\n'.format(acc_score*100))"
   ]
  },
  {
   "cell_type": "markdown",
   "id": "2e976533",
   "metadata": {},
   "source": [
    "# Fitting Random Forest Classifier Model without performing PCA, LDA & Factor Analysis"
   ]
  },
  {
   "cell_type": "code",
   "execution_count": 41,
   "id": "e850f29a",
   "metadata": {},
   "outputs": [
    {
     "name": "stdout",
     "output_type": "stream",
     "text": [
      "Confusion Matrix: \n",
      "[[27  0  0  0  0  0  0  0  0  0]\n",
      " [ 0 19  4  3  3  2  3  0  0  1]\n",
      " [ 1  0 30  4  0  0  0  1  0  0]\n",
      " [ 0  1  0 28  0  0  0  0  0  0]\n",
      " [ 1  0  0  0 27  0  0  2  0  0]\n",
      " [ 2  0  0  1  1 33  0  0  0  3]\n",
      " [ 1  0  0  1  0  0 42  0  0  0]\n",
      " [ 1  0  0  0  0  0  0 38  0  0]\n",
      " [ 0  5  9  4  0  0  0  2 16  3]\n",
      " [ 0  0  0  6  0  1  0  3  0 31]]\n",
      "\n",
      "Accuracy 80.83333333333333\n",
      "\n",
      "\n"
     ]
    }
   ],
   "source": [
    "Random_Forest(X_train, X_test, y_train, y_test)"
   ]
  },
  {
   "cell_type": "markdown",
   "id": "306b1d5f",
   "metadata": {},
   "source": [
    "# Scaling Data with StandardScaler"
   ]
  },
  {
   "cell_type": "code",
   "execution_count": 28,
   "id": "73b0fb33",
   "metadata": {},
   "outputs": [],
   "source": [
    "scaled_X_train, scaled_X_test = scaling_data(X_train, X_test)"
   ]
  },
  {
   "cell_type": "markdown",
   "id": "e19e94ba",
   "metadata": {},
   "source": [
    "# Performing PCA and Fitting Random Forest Classifier Model with splitted data"
   ]
  },
  {
   "cell_type": "code",
   "execution_count": 42,
   "id": "27c46985",
   "metadata": {},
   "outputs": [
    {
     "name": "stdout",
     "output_type": "stream",
     "text": [
      "Explained Variance: [0.12164624 0.09634853 0.08578334 0.06457027 0.04897962 0.04183235\n",
      " 0.03929765 0.03282099 0.02979124 0.02809632 0.02741238 0.02602094\n",
      " 0.02304403 0.02207157 0.02049244 0.01784251 0.01735509 0.01662399\n",
      " 0.0162418  0.01510787 0.01347539 0.01294906 0.01171336 0.01062519\n",
      " 0.01039409 0.00941718 0.00932621 0.00840484 0.00827657 0.00789877\n",
      " 0.00749641 0.00715125 0.00664759 0.00641026 0.00594165]\n",
      "\n",
      "\n",
      "Confusion Matrix: \n",
      "[[27  0  0  0  0  0  0  0  0  0]\n",
      " [ 0 26  0  0  2  1  3  2  0  1]\n",
      " [ 1  0 30  2  0  0  0  2  1  0]\n",
      " [ 0  0  1 27  0  0  0  0  1  0]\n",
      " [ 0  1  0  0 27  0  0  2  0  0]\n",
      " [ 1  0  0  0  0 37  0  0  0  2]\n",
      " [ 2  2  0  0  0  0 40  0  0  0]\n",
      " [ 1  0  1  1  3  0  0 33  0  0]\n",
      " [ 1  4  0  4  0  1  0  2 24  3]\n",
      " [ 3  0  1  5  2  1  2  3  0 24]]\n",
      "\n",
      "Accuracy 81.94444444444444\n",
      "\n",
      "\n"
     ]
    }
   ],
   "source": [
    "PCA_X_train, PCA_X_test, exp_var = fit_PCA(scaled_X_train, scaled_X_test, 35)\n",
    "\n",
    "print(f\"Explained Variance: {exp_var}\\n\\n\")\n",
    "Random_Forest(PCA_X_train, PCA_X_test, y_train, y_test)"
   ]
  },
  {
   "cell_type": "markdown",
   "id": "9d761ecc",
   "metadata": {},
   "source": [
    "35 is the number of conponents for the best accuracy"
   ]
  },
  {
   "cell_type": "markdown",
   "id": "3a91a801",
   "metadata": {},
   "source": [
    "# Performing LDA and Fitting Random Forest Classifier Model with splitted data"
   ]
  },
  {
   "cell_type": "code",
   "execution_count": 47,
   "id": "1e4ff5b6",
   "metadata": {},
   "outputs": [
    {
     "name": "stdout",
     "output_type": "stream",
     "text": [
      "Confusion Matrix: \n",
      "[[27  0  0  0  0  0  0  0  0  0]\n",
      " [ 0 30  1  0  2  0  0  0  0  2]\n",
      " [ 0  0 35  1  0  0  0  0  0  0]\n",
      " [ 0  1  1 26  0  0  0  0  0  1]\n",
      " [ 0  0  0  0 29  0  0  1  0  0]\n",
      " [ 0  0  0  0  0 36  0  2  0  2]\n",
      " [ 0  0  1  0  1  0 42  0  0  0]\n",
      " [ 0  0  0  1  2  0  0 35  0  1]\n",
      " [ 0 22  1  0  0  0  0  0 10  6]\n",
      " [ 2  2  0  7  0  0  0  3  1 26]]\n",
      "\n",
      "Accuracy 82.22222222222221\n",
      "\n",
      "\n"
     ]
    }
   ],
   "source": [
    "LDA_X_train, LDA_X_test = fit_LDA(scaled_X_train, scaled_X_test, y_train, 9)\n",
    "\n",
    "Random_Forest(LDA_X_train, LDA_X_test, y_train, y_test)"
   ]
  },
  {
   "cell_type": "markdown",
   "id": "a8f784f5",
   "metadata": {},
   "source": [
    "# Performing Factor Analysis and Fitting Random Forest Classifier Model with splitted data"
   ]
  },
  {
   "cell_type": "code",
   "execution_count": 58,
   "id": "202a9747",
   "metadata": {},
   "outputs": [
    {
     "name": "stdout",
     "output_type": "stream",
     "text": [
      "Confusion Matrix: \n",
      "[[27  0  0  0  0  0  0  0  0  0]\n",
      " [ 0 22  6  0  1  1  2  0  0  3]\n",
      " [ 0  4 27  0  1  0  0  3  1  0]\n",
      " [ 0  0  2 25  0  1  0  0  0  1]\n",
      " [ 0  0  0  0 29  0  0  1  0  0]\n",
      " [ 3  0  0  0  0 36  0  0  0  1]\n",
      " [ 1  1  1  0  0  1 39  0  1  0]\n",
      " [ 2  0  0  3  3  0  0 29  0  2]\n",
      " [ 3 12  1  2  0  4  0  1 13  3]\n",
      " [ 1  1  0  4  0  1  2  1  0 31]]\n",
      "\n",
      "Accuracy 77.22222222222223\n",
      "\n",
      "\n"
     ]
    }
   ],
   "source": [
    "FA_X_train, FA_X_test = fit_FactorAnalysis(scaled_X_train, scaled_X_test, y_train, 33)\n",
    "\n",
    "Random_Forest(FA_X_train, FA_X_test, y_train, y_test)"
   ]
  },
  {
   "cell_type": "markdown",
   "id": "90043b8f",
   "metadata": {},
   "source": [
    "33 is the number of conponents for the best accuracy"
   ]
  }
 ],
 "metadata": {
  "kernelspec": {
   "display_name": "Python 3 (ipykernel)",
   "language": "python",
   "name": "python3"
  },
  "language_info": {
   "codemirror_mode": {
    "name": "ipython",
    "version": 3
   },
   "file_extension": ".py",
   "mimetype": "text/x-python",
   "name": "python",
   "nbconvert_exporter": "python",
   "pygments_lexer": "ipython3",
   "version": "3.9.13"
  }
 },
 "nbformat": 4,
 "nbformat_minor": 5
}
